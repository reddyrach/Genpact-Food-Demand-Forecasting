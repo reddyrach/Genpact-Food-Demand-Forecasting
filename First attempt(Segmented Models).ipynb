{
 "cells": [
  {
   "cell_type": "code",
   "execution_count": 356,
   "metadata": {},
   "outputs": [],
   "source": [
    "import matplotlib as plt\n",
    "import numpy as np\n",
    "import pandas as pd\n",
    "from sklearn.preprocessing import OneHotEncoder\n",
    "from sklearn.preprocessing import LabelEncoder\n",
    "from sklearn.model_selection import train_test_split\n",
    "from sklearn.ensemble import RandomForestRegressor\n",
    "from sklearn import metrics\n",
    "from sklearn.preprocessing import StandardScaler\n",
    "from sklearn import datasets, linear_model, metrics \n",
    "from sklearn import datasets, linear_model\n",
    "from sklearn.metrics import mean_squared_error, r2_score"
   ]
  },
  {
   "cell_type": "code",
   "execution_count": 357,
   "metadata": {},
   "outputs": [],
   "source": [
    "#Reading in the datasets"
   ]
  },
  {
   "cell_type": "code",
   "execution_count": 358,
   "metadata": {},
   "outputs": [],
   "source": [
    "train = pd.read_csv('train.csv')\n",
    "mi = pd.read_csv('meal_info.csv')\n",
    "fci = pd.read_csv('fulfilment_center_info.csv')\n",
    "test = pd.read_csv('test.csv')"
   ]
  },
  {
   "cell_type": "code",
   "execution_count": 359,
   "metadata": {},
   "outputs": [],
   "source": [
    "train=train.loc[train['num_orders']<5000,:]"
   ]
  },
  {
   "cell_type": "code",
   "execution_count": 360,
   "metadata": {},
   "outputs": [],
   "source": [
    "#Combining tables to create final table"
   ]
  },
  {
   "cell_type": "code",
   "execution_count": 361,
   "metadata": {},
   "outputs": [
    {
     "data": {
      "text/html": [
       "<div>\n",
       "<style scoped>\n",
       "    .dataframe tbody tr th:only-of-type {\n",
       "        vertical-align: middle;\n",
       "    }\n",
       "\n",
       "    .dataframe tbody tr th {\n",
       "        vertical-align: top;\n",
       "    }\n",
       "\n",
       "    .dataframe thead th {\n",
       "        text-align: right;\n",
       "    }\n",
       "</style>\n",
       "<table border=\"1\" class=\"dataframe\">\n",
       "  <thead>\n",
       "    <tr style=\"text-align: right;\">\n",
       "      <th></th>\n",
       "      <th>id</th>\n",
       "      <th>week</th>\n",
       "      <th>center_id</th>\n",
       "      <th>meal_id</th>\n",
       "      <th>checkout_price</th>\n",
       "      <th>base_price</th>\n",
       "      <th>emailer_for_promotion</th>\n",
       "      <th>homepage_featured</th>\n",
       "      <th>num_orders</th>\n",
       "      <th>category</th>\n",
       "      <th>cuisine</th>\n",
       "      <th>city_code</th>\n",
       "      <th>region_code</th>\n",
       "      <th>center_type</th>\n",
       "      <th>op_area</th>\n",
       "    </tr>\n",
       "  </thead>\n",
       "  <tbody>\n",
       "    <tr>\n",
       "      <td>0</td>\n",
       "      <td>1379560</td>\n",
       "      <td>1</td>\n",
       "      <td>55</td>\n",
       "      <td>1885</td>\n",
       "      <td>136.83</td>\n",
       "      <td>152.29</td>\n",
       "      <td>0</td>\n",
       "      <td>0</td>\n",
       "      <td>177</td>\n",
       "      <td>Beverages</td>\n",
       "      <td>Thai</td>\n",
       "      <td>647</td>\n",
       "      <td>56</td>\n",
       "      <td>TYPE_C</td>\n",
       "      <td>2.0</td>\n",
       "    </tr>\n",
       "    <tr>\n",
       "      <td>1</td>\n",
       "      <td>1018704</td>\n",
       "      <td>2</td>\n",
       "      <td>55</td>\n",
       "      <td>1885</td>\n",
       "      <td>135.83</td>\n",
       "      <td>152.29</td>\n",
       "      <td>0</td>\n",
       "      <td>0</td>\n",
       "      <td>323</td>\n",
       "      <td>Beverages</td>\n",
       "      <td>Thai</td>\n",
       "      <td>647</td>\n",
       "      <td>56</td>\n",
       "      <td>TYPE_C</td>\n",
       "      <td>2.0</td>\n",
       "    </tr>\n",
       "    <tr>\n",
       "      <td>2</td>\n",
       "      <td>1196273</td>\n",
       "      <td>3</td>\n",
       "      <td>55</td>\n",
       "      <td>1885</td>\n",
       "      <td>132.92</td>\n",
       "      <td>133.92</td>\n",
       "      <td>0</td>\n",
       "      <td>0</td>\n",
       "      <td>96</td>\n",
       "      <td>Beverages</td>\n",
       "      <td>Thai</td>\n",
       "      <td>647</td>\n",
       "      <td>56</td>\n",
       "      <td>TYPE_C</td>\n",
       "      <td>2.0</td>\n",
       "    </tr>\n",
       "    <tr>\n",
       "      <td>3</td>\n",
       "      <td>1116527</td>\n",
       "      <td>4</td>\n",
       "      <td>55</td>\n",
       "      <td>1885</td>\n",
       "      <td>135.86</td>\n",
       "      <td>134.86</td>\n",
       "      <td>0</td>\n",
       "      <td>0</td>\n",
       "      <td>163</td>\n",
       "      <td>Beverages</td>\n",
       "      <td>Thai</td>\n",
       "      <td>647</td>\n",
       "      <td>56</td>\n",
       "      <td>TYPE_C</td>\n",
       "      <td>2.0</td>\n",
       "    </tr>\n",
       "    <tr>\n",
       "      <td>4</td>\n",
       "      <td>1343872</td>\n",
       "      <td>5</td>\n",
       "      <td>55</td>\n",
       "      <td>1885</td>\n",
       "      <td>146.50</td>\n",
       "      <td>147.50</td>\n",
       "      <td>0</td>\n",
       "      <td>0</td>\n",
       "      <td>215</td>\n",
       "      <td>Beverages</td>\n",
       "      <td>Thai</td>\n",
       "      <td>647</td>\n",
       "      <td>56</td>\n",
       "      <td>TYPE_C</td>\n",
       "      <td>2.0</td>\n",
       "    </tr>\n",
       "  </tbody>\n",
       "</table>\n",
       "</div>"
      ],
      "text/plain": [
       "        id  week  center_id  meal_id  checkout_price  base_price  \\\n",
       "0  1379560     1         55     1885          136.83      152.29   \n",
       "1  1018704     2         55     1885          135.83      152.29   \n",
       "2  1196273     3         55     1885          132.92      133.92   \n",
       "3  1116527     4         55     1885          135.86      134.86   \n",
       "4  1343872     5         55     1885          146.50      147.50   \n",
       "\n",
       "   emailer_for_promotion  homepage_featured  num_orders   category cuisine  \\\n",
       "0                      0                  0         177  Beverages    Thai   \n",
       "1                      0                  0         323  Beverages    Thai   \n",
       "2                      0                  0          96  Beverages    Thai   \n",
       "3                      0                  0         163  Beverages    Thai   \n",
       "4                      0                  0         215  Beverages    Thai   \n",
       "\n",
       "   city_code  region_code center_type  op_area  \n",
       "0        647           56      TYPE_C      2.0  \n",
       "1        647           56      TYPE_C      2.0  \n",
       "2        647           56      TYPE_C      2.0  \n",
       "3        647           56      TYPE_C      2.0  \n",
       "4        647           56      TYPE_C      2.0  "
      ]
     },
     "execution_count": 361,
     "metadata": {},
     "output_type": "execute_result"
    }
   ],
   "source": [
    "meal_merge = pd.merge(train,\n",
    "                 mi[['meal_id','category', 'cuisine']],\n",
    "                 on='meal_id')\n",
    "\n",
    "final_df = pd.merge(meal_merge,\n",
    "                    fci[['center_id','city_code', 'region_code','center_type','op_area']],\n",
    "                    on='center_id')\n",
    "final_df.head()"
   ]
  },
  {
   "cell_type": "code",
   "execution_count": 362,
   "metadata": {},
   "outputs": [],
   "source": [
    "#####Creating test data set##########"
   ]
  },
  {
   "cell_type": "code",
   "execution_count": 363,
   "metadata": {},
   "outputs": [
    {
     "data": {
      "text/html": [
       "<div>\n",
       "<style scoped>\n",
       "    .dataframe tbody tr th:only-of-type {\n",
       "        vertical-align: middle;\n",
       "    }\n",
       "\n",
       "    .dataframe tbody tr th {\n",
       "        vertical-align: top;\n",
       "    }\n",
       "\n",
       "    .dataframe thead th {\n",
       "        text-align: right;\n",
       "    }\n",
       "</style>\n",
       "<table border=\"1\" class=\"dataframe\">\n",
       "  <thead>\n",
       "    <tr style=\"text-align: right;\">\n",
       "      <th></th>\n",
       "      <th>id</th>\n",
       "      <th>week</th>\n",
       "      <th>center_id</th>\n",
       "      <th>meal_id</th>\n",
       "      <th>checkout_price</th>\n",
       "      <th>base_price</th>\n",
       "      <th>emailer_for_promotion</th>\n",
       "      <th>homepage_featured</th>\n",
       "      <th>category</th>\n",
       "      <th>cuisine</th>\n",
       "      <th>city_code</th>\n",
       "      <th>region_code</th>\n",
       "      <th>center_type</th>\n",
       "      <th>op_area</th>\n",
       "    </tr>\n",
       "  </thead>\n",
       "  <tbody>\n",
       "    <tr>\n",
       "      <td>0</td>\n",
       "      <td>1028232</td>\n",
       "      <td>146</td>\n",
       "      <td>55</td>\n",
       "      <td>1885</td>\n",
       "      <td>158.11</td>\n",
       "      <td>159.11</td>\n",
       "      <td>0</td>\n",
       "      <td>0</td>\n",
       "      <td>Beverages</td>\n",
       "      <td>Thai</td>\n",
       "      <td>647</td>\n",
       "      <td>56</td>\n",
       "      <td>TYPE_C</td>\n",
       "      <td>2.0</td>\n",
       "    </tr>\n",
       "    <tr>\n",
       "      <td>1</td>\n",
       "      <td>1262649</td>\n",
       "      <td>147</td>\n",
       "      <td>55</td>\n",
       "      <td>1885</td>\n",
       "      <td>159.11</td>\n",
       "      <td>159.11</td>\n",
       "      <td>0</td>\n",
       "      <td>0</td>\n",
       "      <td>Beverages</td>\n",
       "      <td>Thai</td>\n",
       "      <td>647</td>\n",
       "      <td>56</td>\n",
       "      <td>TYPE_C</td>\n",
       "      <td>2.0</td>\n",
       "    </tr>\n",
       "    <tr>\n",
       "      <td>2</td>\n",
       "      <td>1453211</td>\n",
       "      <td>149</td>\n",
       "      <td>55</td>\n",
       "      <td>1885</td>\n",
       "      <td>157.14</td>\n",
       "      <td>158.14</td>\n",
       "      <td>0</td>\n",
       "      <td>0</td>\n",
       "      <td>Beverages</td>\n",
       "      <td>Thai</td>\n",
       "      <td>647</td>\n",
       "      <td>56</td>\n",
       "      <td>TYPE_C</td>\n",
       "      <td>2.0</td>\n",
       "    </tr>\n",
       "    <tr>\n",
       "      <td>3</td>\n",
       "      <td>1262599</td>\n",
       "      <td>150</td>\n",
       "      <td>55</td>\n",
       "      <td>1885</td>\n",
       "      <td>159.14</td>\n",
       "      <td>157.14</td>\n",
       "      <td>0</td>\n",
       "      <td>0</td>\n",
       "      <td>Beverages</td>\n",
       "      <td>Thai</td>\n",
       "      <td>647</td>\n",
       "      <td>56</td>\n",
       "      <td>TYPE_C</td>\n",
       "      <td>2.0</td>\n",
       "    </tr>\n",
       "    <tr>\n",
       "      <td>4</td>\n",
       "      <td>1495848</td>\n",
       "      <td>151</td>\n",
       "      <td>55</td>\n",
       "      <td>1885</td>\n",
       "      <td>160.11</td>\n",
       "      <td>159.11</td>\n",
       "      <td>0</td>\n",
       "      <td>0</td>\n",
       "      <td>Beverages</td>\n",
       "      <td>Thai</td>\n",
       "      <td>647</td>\n",
       "      <td>56</td>\n",
       "      <td>TYPE_C</td>\n",
       "      <td>2.0</td>\n",
       "    </tr>\n",
       "  </tbody>\n",
       "</table>\n",
       "</div>"
      ],
      "text/plain": [
       "        id  week  center_id  meal_id  checkout_price  base_price  \\\n",
       "0  1028232   146         55     1885          158.11      159.11   \n",
       "1  1262649   147         55     1885          159.11      159.11   \n",
       "2  1453211   149         55     1885          157.14      158.14   \n",
       "3  1262599   150         55     1885          159.14      157.14   \n",
       "4  1495848   151         55     1885          160.11      159.11   \n",
       "\n",
       "   emailer_for_promotion  homepage_featured   category cuisine  city_code  \\\n",
       "0                      0                  0  Beverages    Thai        647   \n",
       "1                      0                  0  Beverages    Thai        647   \n",
       "2                      0                  0  Beverages    Thai        647   \n",
       "3                      0                  0  Beverages    Thai        647   \n",
       "4                      0                  0  Beverages    Thai        647   \n",
       "\n",
       "   region_code center_type  op_area  \n",
       "0           56      TYPE_C      2.0  \n",
       "1           56      TYPE_C      2.0  \n",
       "2           56      TYPE_C      2.0  \n",
       "3           56      TYPE_C      2.0  \n",
       "4           56      TYPE_C      2.0  "
      ]
     },
     "execution_count": 363,
     "metadata": {},
     "output_type": "execute_result"
    }
   ],
   "source": [
    "test_merge1 = pd.merge(test,\n",
    "                 mi[['meal_id','category', 'cuisine']],\n",
    "                 on='meal_id')\n",
    "\n",
    "final_test = pd.merge(test_merge1,\n",
    "                    fci[['center_id','city_code', 'region_code','center_type','op_area']],\n",
    "                    on='center_id')\n",
    "final_test.head()"
   ]
  },
  {
   "cell_type": "code",
   "execution_count": 364,
   "metadata": {},
   "outputs": [],
   "source": [
    "#########Seperating by regions based on visualizations##########\n",
    "#########Creating models for each region#########"
   ]
  },
  {
   "cell_type": "code",
   "execution_count": 365,
   "metadata": {},
   "outputs": [],
   "source": [
    "########## Region 56 #############"
   ]
  },
  {
   "cell_type": "code",
   "execution_count": 366,
   "metadata": {},
   "outputs": [],
   "source": [
    "r56 = final_df[final_df.region_code == 56]"
   ]
  },
  {
   "cell_type": "code",
   "execution_count": 367,
   "metadata": {},
   "outputs": [
    {
     "name": "stdout",
     "output_type": "stream",
     "text": [
      "<class 'pandas.core.frame.DataFrame'>\n",
      "Int64Index: 191045 entries, 0 to 450431\n",
      "Data columns (total 15 columns):\n",
      "id                       191045 non-null int64\n",
      "week                     191045 non-null int64\n",
      "center_id                191045 non-null int64\n",
      "meal_id                  191045 non-null int64\n",
      "checkout_price           191045 non-null float64\n",
      "base_price               191045 non-null float64\n",
      "emailer_for_promotion    191045 non-null int64\n",
      "homepage_featured        191045 non-null int64\n",
      "num_orders               191045 non-null int64\n",
      "category                 191045 non-null object\n",
      "cuisine                  191045 non-null object\n",
      "city_code                191045 non-null int64\n",
      "region_code              191045 non-null int64\n",
      "center_type              191045 non-null object\n",
      "op_area                  191045 non-null float64\n",
      "dtypes: float64(3), int64(9), object(3)\n",
      "memory usage: 23.3+ MB\n"
     ]
    }
   ],
   "source": [
    "r56.info()"
   ]
  },
  {
   "cell_type": "code",
   "execution_count": 368,
   "metadata": {},
   "outputs": [],
   "source": [
    "#Dropping unecessary columns"
   ]
  },
  {
   "cell_type": "code",
   "execution_count": 369,
   "metadata": {},
   "outputs": [],
   "source": [
    "clean_r56 = r56.drop(['center_id','meal_id','id','week','region_code','city_code'], axis=1)"
   ]
  },
  {
   "cell_type": "code",
   "execution_count": 370,
   "metadata": {},
   "outputs": [
    {
     "name": "stdout",
     "output_type": "stream",
     "text": [
      "<class 'pandas.core.frame.DataFrame'>\n",
      "Int64Index: 191045 entries, 0 to 450431\n",
      "Data columns (total 9 columns):\n",
      "checkout_price           191045 non-null float64\n",
      "base_price               191045 non-null float64\n",
      "emailer_for_promotion    191045 non-null int64\n",
      "homepage_featured        191045 non-null int64\n",
      "num_orders               191045 non-null int64\n",
      "category                 191045 non-null object\n",
      "cuisine                  191045 non-null object\n",
      "center_type              191045 non-null object\n",
      "op_area                  191045 non-null float64\n",
      "dtypes: float64(3), int64(3), object(3)\n",
      "memory usage: 14.6+ MB\n"
     ]
    }
   ],
   "source": [
    "clean_r56.info()"
   ]
  },
  {
   "cell_type": "code",
   "execution_count": 371,
   "metadata": {},
   "outputs": [],
   "source": [
    "final_r56 = pd.get_dummies(clean_r56,drop_first=True)"
   ]
  },
  {
   "cell_type": "code",
   "execution_count": 372,
   "metadata": {},
   "outputs": [],
   "source": [
    "#Rearranging columns"
   ]
  },
  {
   "cell_type": "code",
   "execution_count": 373,
   "metadata": {},
   "outputs": [],
   "source": [
    "cols = list(final_r56.columns.values)"
   ]
  },
  {
   "cell_type": "code",
   "execution_count": 374,
   "metadata": {},
   "outputs": [
    {
     "data": {
      "text/plain": [
       "['checkout_price',\n",
       " 'base_price',\n",
       " 'emailer_for_promotion',\n",
       " 'homepage_featured',\n",
       " 'num_orders',\n",
       " 'op_area',\n",
       " 'category_Biryani',\n",
       " 'category_Desert',\n",
       " 'category_Extras',\n",
       " 'category_Fish',\n",
       " 'category_Other Snacks',\n",
       " 'category_Pasta',\n",
       " 'category_Pizza',\n",
       " 'category_Rice Bowl',\n",
       " 'category_Salad',\n",
       " 'category_Sandwich',\n",
       " 'category_Seafood',\n",
       " 'category_Soup',\n",
       " 'category_Starters',\n",
       " 'cuisine_Indian',\n",
       " 'cuisine_Italian',\n",
       " 'cuisine_Thai',\n",
       " 'center_type_TYPE_B',\n",
       " 'center_type_TYPE_C']"
      ]
     },
     "execution_count": 374,
     "metadata": {},
     "output_type": "execute_result"
    }
   ],
   "source": [
    "cols"
   ]
  },
  {
   "cell_type": "code",
   "execution_count": 375,
   "metadata": {},
   "outputs": [],
   "source": [
    "final_r56 = final_r56[['num_orders',\n",
    " 'op_area',\n",
    " 'checkout_price',\n",
    " 'base_price',\n",
    " 'emailer_for_promotion',\n",
    " 'homepage_featured',\n",
    " 'category_Biryani',\n",
    " 'category_Desert',\n",
    " 'category_Extras',\n",
    " 'category_Fish',\n",
    " 'category_Other Snacks',\n",
    " 'category_Pasta',\n",
    " 'category_Pizza',\n",
    " 'category_Rice Bowl',\n",
    " 'category_Salad',\n",
    " 'category_Sandwich',\n",
    " 'category_Seafood',\n",
    " 'category_Soup',\n",
    " 'category_Starters',\n",
    " 'cuisine_Indian',\n",
    " 'cuisine_Italian',\n",
    " 'cuisine_Thai',\n",
    " 'center_type_TYPE_B',\n",
    " 'center_type_TYPE_C']]"
   ]
  },
  {
   "cell_type": "code",
   "execution_count": 376,
   "metadata": {},
   "outputs": [
    {
     "data": {
      "text/html": [
       "<div>\n",
       "<style scoped>\n",
       "    .dataframe tbody tr th:only-of-type {\n",
       "        vertical-align: middle;\n",
       "    }\n",
       "\n",
       "    .dataframe tbody tr th {\n",
       "        vertical-align: top;\n",
       "    }\n",
       "\n",
       "    .dataframe thead th {\n",
       "        text-align: right;\n",
       "    }\n",
       "</style>\n",
       "<table border=\"1\" class=\"dataframe\">\n",
       "  <thead>\n",
       "    <tr style=\"text-align: right;\">\n",
       "      <th></th>\n",
       "      <th>num_orders</th>\n",
       "      <th>op_area</th>\n",
       "      <th>checkout_price</th>\n",
       "      <th>base_price</th>\n",
       "      <th>emailer_for_promotion</th>\n",
       "      <th>homepage_featured</th>\n",
       "      <th>category_Biryani</th>\n",
       "      <th>category_Desert</th>\n",
       "      <th>category_Extras</th>\n",
       "      <th>category_Fish</th>\n",
       "      <th>...</th>\n",
       "      <th>category_Salad</th>\n",
       "      <th>category_Sandwich</th>\n",
       "      <th>category_Seafood</th>\n",
       "      <th>category_Soup</th>\n",
       "      <th>category_Starters</th>\n",
       "      <th>cuisine_Indian</th>\n",
       "      <th>cuisine_Italian</th>\n",
       "      <th>cuisine_Thai</th>\n",
       "      <th>center_type_TYPE_B</th>\n",
       "      <th>center_type_TYPE_C</th>\n",
       "    </tr>\n",
       "  </thead>\n",
       "  <tbody>\n",
       "    <tr>\n",
       "      <td>0</td>\n",
       "      <td>177</td>\n",
       "      <td>2.0</td>\n",
       "      <td>136.83</td>\n",
       "      <td>152.29</td>\n",
       "      <td>0</td>\n",
       "      <td>0</td>\n",
       "      <td>0</td>\n",
       "      <td>0</td>\n",
       "      <td>0</td>\n",
       "      <td>0</td>\n",
       "      <td>...</td>\n",
       "      <td>0</td>\n",
       "      <td>0</td>\n",
       "      <td>0</td>\n",
       "      <td>0</td>\n",
       "      <td>0</td>\n",
       "      <td>0</td>\n",
       "      <td>0</td>\n",
       "      <td>1</td>\n",
       "      <td>0</td>\n",
       "      <td>1</td>\n",
       "    </tr>\n",
       "  </tbody>\n",
       "</table>\n",
       "<p>1 rows × 24 columns</p>\n",
       "</div>"
      ],
      "text/plain": [
       "   num_orders  op_area  checkout_price  base_price  emailer_for_promotion  \\\n",
       "0         177      2.0          136.83      152.29                      0   \n",
       "\n",
       "   homepage_featured  category_Biryani  category_Desert  category_Extras  \\\n",
       "0                  0                 0                0                0   \n",
       "\n",
       "   category_Fish  ...  category_Salad  category_Sandwich  category_Seafood  \\\n",
       "0              0  ...               0                  0                 0   \n",
       "\n",
       "   category_Soup  category_Starters  cuisine_Indian  cuisine_Italian  \\\n",
       "0              0                  0               0                0   \n",
       "\n",
       "   cuisine_Thai  center_type_TYPE_B  center_type_TYPE_C  \n",
       "0             1                   0                   1  \n",
       "\n",
       "[1 rows x 24 columns]"
      ]
     },
     "execution_count": 376,
     "metadata": {},
     "output_type": "execute_result"
    }
   ],
   "source": [
    "final_r56.head(1)"
   ]
  },
  {
   "cell_type": "code",
   "execution_count": 377,
   "metadata": {},
   "outputs": [],
   "source": [
    "#Splitting data into training and testing sets"
   ]
  },
  {
   "cell_type": "code",
   "execution_count": 378,
   "metadata": {},
   "outputs": [],
   "source": [
    "X = final_r56.iloc[:, 2:24].values  \n",
    "y = final_r56.iloc[:, 0].values\n",
    "\n",
    "X_train, X_test, y_train, y_test = train_test_split(X, y, test_size=0.2, random_state=0)"
   ]
  },
  {
   "cell_type": "code",
   "execution_count": null,
   "metadata": {},
   "outputs": [],
   "source": []
  },
  {
   "cell_type": "code",
   "execution_count": 379,
   "metadata": {},
   "outputs": [],
   "source": [
    "r56_rf = RandomForestRegressor(n_estimators=1000, random_state=0)  \n",
    "r56_rf.fit(X_train, y_train)  \n",
    "y_pred = r56_rf.predict(X_test)"
   ]
  },
  {
   "cell_type": "code",
   "execution_count": 380,
   "metadata": {},
   "outputs": [
    {
     "name": "stdout",
     "output_type": "stream",
     "text": [
      "Root Mean Squared Error: 244.90866704762922\n",
      "Root Mean Squared Log Error: 0.6598557285160552\n"
     ]
    }
   ],
   "source": [
    "print('Root Mean Squared Error:', np.sqrt(metrics.mean_squared_error(y_test, y_pred)))"
   ]
  },
  {
   "cell_type": "code",
   "execution_count": 381,
   "metadata": {},
   "outputs": [],
   "source": [
    "#Predicting on Test"
   ]
  },
  {
   "cell_type": "code",
   "execution_count": 382,
   "metadata": {},
   "outputs": [],
   "source": [
    "r56_test = final_test[final_test.region_code == 56]\n",
    "\n",
    "clean_r56_test = r56_test.drop(['center_id','meal_id','week','region_code','city_code'], axis=1)\n",
    "\n",
    "final_r56_test = pd.get_dummies(clean_r56_test,drop_first=True)\n",
    "\n",
    "cols = list(final_r56_test.columns.values)"
   ]
  },
  {
   "cell_type": "code",
   "execution_count": 383,
   "metadata": {},
   "outputs": [
    {
     "data": {
      "text/plain": [
       "(13683, 14)"
      ]
     },
     "execution_count": 383,
     "metadata": {},
     "output_type": "execute_result"
    }
   ],
   "source": [
    "r56_test.shape"
   ]
  },
  {
   "cell_type": "code",
   "execution_count": 384,
   "metadata": {},
   "outputs": [
    {
     "data": {
      "text/plain": [
       "['id',\n",
       " 'checkout_price',\n",
       " 'base_price',\n",
       " 'emailer_for_promotion',\n",
       " 'homepage_featured',\n",
       " 'op_area',\n",
       " 'category_Biryani',\n",
       " 'category_Desert',\n",
       " 'category_Extras',\n",
       " 'category_Fish',\n",
       " 'category_Other Snacks',\n",
       " 'category_Pasta',\n",
       " 'category_Pizza',\n",
       " 'category_Rice Bowl',\n",
       " 'category_Salad',\n",
       " 'category_Sandwich',\n",
       " 'category_Seafood',\n",
       " 'category_Soup',\n",
       " 'category_Starters',\n",
       " 'cuisine_Indian',\n",
       " 'cuisine_Italian',\n",
       " 'cuisine_Thai',\n",
       " 'center_type_TYPE_B',\n",
       " 'center_type_TYPE_C']"
      ]
     },
     "execution_count": 384,
     "metadata": {},
     "output_type": "execute_result"
    }
   ],
   "source": [
    "cols"
   ]
  },
  {
   "cell_type": "code",
   "execution_count": 385,
   "metadata": {},
   "outputs": [],
   "source": [
    "final_r56_test = final_r56_test[['id',\n",
    "                                 'op_area',\n",
    " 'checkout_price',\n",
    " 'base_price',\n",
    " 'emailer_for_promotion',\n",
    " 'homepage_featured',\n",
    " \n",
    " 'category_Biryani',\n",
    " 'category_Desert',\n",
    " 'category_Extras',\n",
    " 'category_Fish',\n",
    " 'category_Other Snacks',\n",
    " 'category_Pasta',\n",
    " 'category_Pizza',\n",
    " 'category_Rice Bowl',\n",
    " 'category_Salad',\n",
    " 'category_Sandwich',\n",
    " 'category_Seafood',\n",
    " 'category_Soup',\n",
    " 'category_Starters',\n",
    " 'cuisine_Indian',\n",
    " 'cuisine_Italian',\n",
    " 'cuisine_Thai',\n",
    " 'center_type_TYPE_B',\n",
    " 'center_type_TYPE_C']]"
   ]
  },
  {
   "cell_type": "code",
   "execution_count": 386,
   "metadata": {},
   "outputs": [],
   "source": [
    "test_score_r56 = final_r56_test.iloc[:, 2:24].values"
   ]
  },
  {
   "cell_type": "code",
   "execution_count": 387,
   "metadata": {},
   "outputs": [],
   "source": [
    "num_orders_r56 = r56_rf.predict(test_score_r56)"
   ]
  },
  {
   "cell_type": "code",
   "execution_count": 388,
   "metadata": {},
   "outputs": [],
   "source": [
    "num_orders_r56_results = np.ceil(num_orders_r56)"
   ]
  },
  {
   "cell_type": "code",
   "execution_count": 389,
   "metadata": {},
   "outputs": [
    {
     "data": {
      "text/plain": [
       "array([ 49., 186., 198., ...,  74.,  74.,  45.])"
      ]
     },
     "execution_count": 389,
     "metadata": {},
     "output_type": "execute_result"
    }
   ],
   "source": [
    "num_orders_r56_results"
   ]
  },
  {
   "cell_type": "code",
   "execution_count": 390,
   "metadata": {},
   "outputs": [],
   "source": [
    "sol_df_r56 = pd.DataFrame({'id':final_r56_test.id, 'num_orders': num_orders_r56_results})"
   ]
  },
  {
   "cell_type": "code",
   "execution_count": 391,
   "metadata": {},
   "outputs": [
    {
     "data": {
      "text/plain": [
       "(13683, 2)"
      ]
     },
     "execution_count": 391,
     "metadata": {},
     "output_type": "execute_result"
    }
   ],
   "source": [
    "sol_df_r56.shape"
   ]
  },
  {
   "cell_type": "code",
   "execution_count": 392,
   "metadata": {},
   "outputs": [
    {
     "name": "stdout",
     "output_type": "stream",
     "text": [
      "[[<matplotlib.axes._subplots.AxesSubplot object at 0x000001989CF7FBC8>\n",
      "  <matplotlib.axes._subplots.AxesSubplot object at 0x00000198A4E35808>]]\n"
     ]
    },
    {
     "data": {
      "image/png": "[encoded data removed]",
      "text/plain": [
       "<Figure size 432x288 with 2 Axes>"
      ]
     },
     "metadata": {
      "needs_background": "light"
     },
     "output_type": "display_data"
    }
   ],
   "source": [
    "print(sol_df_r56.hist())"
   ]
  },
  {
   "cell_type": "code",
   "execution_count": 393,
   "metadata": {},
   "outputs": [],
   "source": [
    "############Region 85###################"
   ]
  },
  {
   "cell_type": "code",
   "execution_count": 394,
   "metadata": {},
   "outputs": [],
   "source": [
    "r85 = final_df[final_df.region_code == 85]"
   ]
  },
  {
   "cell_type": "code",
   "execution_count": 395,
   "metadata": {},
   "outputs": [
    {
     "name": "stdout",
     "output_type": "stream",
     "text": [
      "<class 'pandas.core.frame.DataFrame'>\n",
      "Int64Index: 30274 entries, 5146 to 437631\n",
      "Data columns (total 15 columns):\n",
      "id                       30274 non-null int64\n",
      "week                     30274 non-null int64\n",
      "center_id                30274 non-null int64\n",
      "meal_id                  30274 non-null int64\n",
      "checkout_price           30274 non-null float64\n",
      "base_price               30274 non-null float64\n",
      "emailer_for_promotion    30274 non-null int64\n",
      "homepage_featured        30274 non-null int64\n",
      "num_orders               30274 non-null int64\n",
      "category                 30274 non-null object\n",
      "cuisine                  30274 non-null object\n",
      "city_code                30274 non-null int64\n",
      "region_code              30274 non-null int64\n",
      "center_type              30274 non-null object\n",
      "op_area                  30274 non-null float64\n",
      "dtypes: float64(3), int64(9), object(3)\n",
      "memory usage: 3.7+ MB\n"
     ]
    }
   ],
   "source": [
    "r85.info()"
   ]
  },
  {
   "cell_type": "code",
   "execution_count": 396,
   "metadata": {},
   "outputs": [],
   "source": [
    "#Dropping unecessary columns"
   ]
  },
  {
   "cell_type": "code",
   "execution_count": 397,
   "metadata": {},
   "outputs": [],
   "source": [
    "clean_r85 = r85.drop(['center_id','meal_id','id','week','region_code','city_code'], axis=1)"
   ]
  },
  {
   "cell_type": "code",
   "execution_count": 398,
   "metadata": {},
   "outputs": [
    {
     "name": "stdout",
     "output_type": "stream",
     "text": [
      "<class 'pandas.core.frame.DataFrame'>\n",
      "Int64Index: 30274 entries, 5146 to 437631\n",
      "Data columns (total 9 columns):\n",
      "checkout_price           30274 non-null float64\n",
      "base_price               30274 non-null float64\n",
      "emailer_for_promotion    30274 non-null int64\n",
      "homepage_featured        30274 non-null int64\n",
      "num_orders               30274 non-null int64\n",
      "category                 30274 non-null object\n",
      "cuisine                  30274 non-null object\n",
      "center_type              30274 non-null object\n",
      "op_area                  30274 non-null float64\n",
      "dtypes: float64(3), int64(3), object(3)\n",
      "memory usage: 2.3+ MB\n"
     ]
    }
   ],
   "source": [
    "clean_r85.info()"
   ]
  },
  {
   "cell_type": "code",
   "execution_count": 399,
   "metadata": {},
   "outputs": [],
   "source": [
    "final_r85 = pd.get_dummies(clean_r85,drop_first=True)"
   ]
  },
  {
   "cell_type": "code",
   "execution_count": 400,
   "metadata": {},
   "outputs": [],
   "source": [
    "#Rearranging columns"
   ]
  },
  {
   "cell_type": "code",
   "execution_count": 401,
   "metadata": {},
   "outputs": [],
   "source": [
    "cols = list(final_r85.columns.values)"
   ]
  },
  {
   "cell_type": "code",
   "execution_count": 402,
   "metadata": {},
   "outputs": [
    {
     "data": {
      "text/plain": [
       "['checkout_price',\n",
       " 'base_price',\n",
       " 'emailer_for_promotion',\n",
       " 'homepage_featured',\n",
       " 'num_orders',\n",
       " 'op_area',\n",
       " 'category_Biryani',\n",
       " 'category_Desert',\n",
       " 'category_Extras',\n",
       " 'category_Fish',\n",
       " 'category_Other Snacks',\n",
       " 'category_Pasta',\n",
       " 'category_Pizza',\n",
       " 'category_Rice Bowl',\n",
       " 'category_Salad',\n",
       " 'category_Sandwich',\n",
       " 'category_Seafood',\n",
       " 'category_Soup',\n",
       " 'category_Starters',\n",
       " 'cuisine_Indian',\n",
       " 'cuisine_Italian',\n",
       " 'cuisine_Thai',\n",
       " 'center_type_TYPE_B',\n",
       " 'center_type_TYPE_C']"
      ]
     },
     "execution_count": 402,
     "metadata": {},
     "output_type": "execute_result"
    }
   ],
   "source": [
    "cols"
   ]
  },
  {
   "cell_type": "code",
   "execution_count": 403,
   "metadata": {},
   "outputs": [],
   "source": [
    "final_r85 = final_r85[['num_orders',\n",
    " 'op_area',\n",
    " 'checkout_price',\n",
    " 'base_price',\n",
    " 'emailer_for_promotion',\n",
    " 'homepage_featured',\n",
    " 'category_Biryani',\n",
    " 'category_Desert',\n",
    " 'category_Extras',\n",
    " 'category_Fish',\n",
    " 'category_Other Snacks',\n",
    " 'category_Pasta',\n",
    " 'category_Pizza',\n",
    " 'category_Rice Bowl',\n",
    " 'category_Salad',\n",
    " 'category_Sandwich',\n",
    " 'category_Seafood',\n",
    " 'category_Soup',\n",
    " 'category_Starters',\n",
    " 'cuisine_Indian',\n",
    " 'cuisine_Italian',\n",
    " 'cuisine_Thai',\n",
    " 'center_type_TYPE_B',\n",
    " 'center_type_TYPE_C']]"
   ]
  },
  {
   "cell_type": "code",
   "execution_count": 404,
   "metadata": {},
   "outputs": [
    {
     "data": {
      "text/html": [
       "<div>\n",
       "<style scoped>\n",
       "    .dataframe tbody tr th:only-of-type {\n",
       "        vertical-align: middle;\n",
       "    }\n",
       "\n",
       "    .dataframe tbody tr th {\n",
       "        vertical-align: top;\n",
       "    }\n",
       "\n",
       "    .dataframe thead th {\n",
       "        text-align: right;\n",
       "    }\n",
       "</style>\n",
       "<table border=\"1\" class=\"dataframe\">\n",
       "  <thead>\n",
       "    <tr style=\"text-align: right;\">\n",
       "      <th></th>\n",
       "      <th>num_orders</th>\n",
       "      <th>op_area</th>\n",
       "      <th>checkout_price</th>\n",
       "      <th>base_price</th>\n",
       "      <th>emailer_for_promotion</th>\n",
       "      <th>homepage_featured</th>\n",
       "      <th>category_Biryani</th>\n",
       "      <th>category_Desert</th>\n",
       "      <th>category_Extras</th>\n",
       "      <th>category_Fish</th>\n",
       "      <th>...</th>\n",
       "      <th>category_Salad</th>\n",
       "      <th>category_Sandwich</th>\n",
       "      <th>category_Seafood</th>\n",
       "      <th>category_Soup</th>\n",
       "      <th>category_Starters</th>\n",
       "      <th>cuisine_Indian</th>\n",
       "      <th>cuisine_Italian</th>\n",
       "      <th>cuisine_Thai</th>\n",
       "      <th>center_type_TYPE_B</th>\n",
       "      <th>center_type_TYPE_C</th>\n",
       "    </tr>\n",
       "  </thead>\n",
       "  <tbody>\n",
       "    <tr>\n",
       "      <td>5146</td>\n",
       "      <td>1498</td>\n",
       "      <td>3.6</td>\n",
       "      <td>136.83</td>\n",
       "      <td>136.83</td>\n",
       "      <td>0</td>\n",
       "      <td>0</td>\n",
       "      <td>0</td>\n",
       "      <td>0</td>\n",
       "      <td>0</td>\n",
       "      <td>0</td>\n",
       "      <td>...</td>\n",
       "      <td>0</td>\n",
       "      <td>0</td>\n",
       "      <td>0</td>\n",
       "      <td>0</td>\n",
       "      <td>0</td>\n",
       "      <td>0</td>\n",
       "      <td>0</td>\n",
       "      <td>1</td>\n",
       "      <td>1</td>\n",
       "      <td>0</td>\n",
       "    </tr>\n",
       "  </tbody>\n",
       "</table>\n",
       "<p>1 rows × 24 columns</p>\n",
       "</div>"
      ],
      "text/plain": [
       "      num_orders  op_area  checkout_price  base_price  emailer_for_promotion  \\\n",
       "5146        1498      3.6          136.83      136.83                      0   \n",
       "\n",
       "      homepage_featured  category_Biryani  category_Desert  category_Extras  \\\n",
       "5146                  0                 0                0                0   \n",
       "\n",
       "      category_Fish  ...  category_Salad  category_Sandwich  category_Seafood  \\\n",
       "5146              0  ...               0                  0                 0   \n",
       "\n",
       "      category_Soup  category_Starters  cuisine_Indian  cuisine_Italian  \\\n",
       "5146              0                  0               0                0   \n",
       "\n",
       "      cuisine_Thai  center_type_TYPE_B  center_type_TYPE_C  \n",
       "5146             1                   1                   0  \n",
       "\n",
       "[1 rows x 24 columns]"
      ]
     },
     "execution_count": 404,
     "metadata": {},
     "output_type": "execute_result"
    }
   ],
   "source": [
    "final_r85.head(1)"
   ]
  },
  {
   "cell_type": "code",
   "execution_count": 405,
   "metadata": {},
   "outputs": [],
   "source": [
    "#Splitting data into training and testing sets"
   ]
  },
  {
   "cell_type": "code",
   "execution_count": 406,
   "metadata": {},
   "outputs": [],
   "source": [
    "X = final_r85.iloc[:, 2:24].values  \n",
    "y = final_r85.iloc[:, 0].values\n",
    "\n",
    "X_train, X_test, y_train, y_test = train_test_split(X, y, test_size=0.2, random_state=0)"
   ]
  },
  {
   "cell_type": "code",
   "execution_count": 407,
   "metadata": {},
   "outputs": [],
   "source": [
    "r85_rf = RandomForestRegressor(n_estimators=1000, random_state=0)  \n",
    "r85_rf.fit(X_train, y_train)  \n",
    "y_pred = r85_rf.predict(X_test)"
   ]
  },
  {
   "cell_type": "code",
   "execution_count": 408,
   "metadata": {},
   "outputs": [
    {
     "name": "stdout",
     "output_type": "stream",
     "text": [
      "Root Mean Squared Error: 203.44140061984777\n",
      "Root Mean Squared Log Error: 0.6177245793839238\n"
     ]
    }
   ],
   "source": [
    "print('Root Mean Squared Error:', np.sqrt(metrics.mean_squared_error(y_test, y_pred)))\n",
    "print('Root Mean Squared Log Error:', np.sqrt(metrics.mean_squared_log_error(y_test, y_pred)))"
   ]
  },
  {
   "cell_type": "code",
   "execution_count": 409,
   "metadata": {},
   "outputs": [],
   "source": [
    "#Predicting on Test"
   ]
  },
  {
   "cell_type": "code",
   "execution_count": 410,
   "metadata": {},
   "outputs": [],
   "source": [
    "r85_test = final_test[final_test.region_code == 85]\n",
    "\n",
    "clean_r85_test = r85_test.drop(['center_id','meal_id','week','region_code','city_code'], axis=1)\n",
    "\n",
    "final_r85_test = pd.get_dummies(clean_r85_test,drop_first=True)\n",
    "\n",
    "cols = list(final_r85_test.columns.values)"
   ]
  },
  {
   "cell_type": "code",
   "execution_count": 411,
   "metadata": {},
   "outputs": [
    {
     "data": {
      "text/plain": [
       "['id',\n",
       " 'checkout_price',\n",
       " 'base_price',\n",
       " 'emailer_for_promotion',\n",
       " 'homepage_featured',\n",
       " 'op_area',\n",
       " 'category_Biryani',\n",
       " 'category_Desert',\n",
       " 'category_Extras',\n",
       " 'category_Fish',\n",
       " 'category_Other Snacks',\n",
       " 'category_Pasta',\n",
       " 'category_Pizza',\n",
       " 'category_Rice Bowl',\n",
       " 'category_Salad',\n",
       " 'category_Sandwich',\n",
       " 'category_Seafood',\n",
       " 'category_Soup',\n",
       " 'category_Starters',\n",
       " 'cuisine_Indian',\n",
       " 'cuisine_Italian',\n",
       " 'cuisine_Thai',\n",
       " 'center_type_TYPE_B',\n",
       " 'center_type_TYPE_C']"
      ]
     },
     "execution_count": 411,
     "metadata": {},
     "output_type": "execute_result"
    }
   ],
   "source": [
    "cols"
   ]
  },
  {
   "cell_type": "code",
   "execution_count": 412,
   "metadata": {},
   "outputs": [],
   "source": [
    "final_r85_test = final_r85_test[['id','op_area',\n",
    " 'checkout_price',\n",
    " 'base_price',\n",
    " 'emailer_for_promotion',\n",
    " 'homepage_featured',\n",
    " 'category_Biryani',\n",
    " 'category_Desert',\n",
    " 'category_Extras',\n",
    " 'category_Fish',\n",
    " 'category_Other Snacks',\n",
    " 'category_Pasta',\n",
    " 'category_Pizza',\n",
    " 'category_Rice Bowl',\n",
    " 'category_Salad',\n",
    " 'category_Sandwich',\n",
    " 'category_Seafood',\n",
    " 'category_Soup',\n",
    " 'category_Starters',\n",
    " 'cuisine_Indian',\n",
    " 'cuisine_Italian',\n",
    " 'cuisine_Thai',\n",
    " 'center_type_TYPE_B',\n",
    " 'center_type_TYPE_C']]"
   ]
  },
  {
   "cell_type": "code",
   "execution_count": 413,
   "metadata": {},
   "outputs": [],
   "source": [
    "test_score_r85 = final_r85_test.iloc[:, 2:24].values"
   ]
  },
  {
   "cell_type": "code",
   "execution_count": 414,
   "metadata": {},
   "outputs": [],
   "source": [
    "num_orders_r85 = r85_rf.predict(test_score_r85)"
   ]
  },
  {
   "cell_type": "code",
   "execution_count": 415,
   "metadata": {},
   "outputs": [],
   "source": [
    "num_orders_r85_results = np.ceil(num_orders_r85)"
   ]
  },
  {
   "cell_type": "code",
   "execution_count": 416,
   "metadata": {},
   "outputs": [
    {
     "data": {
      "text/plain": [
       "array([ 853., 1071.,  350., ...,   99.,   18.,   18.])"
      ]
     },
     "execution_count": 416,
     "metadata": {},
     "output_type": "execute_result"
    }
   ],
   "source": [
    "num_orders_r85_results"
   ]
  },
  {
   "cell_type": "code",
   "execution_count": 417,
   "metadata": {},
   "outputs": [],
   "source": [
    "sol_df_r85 = pd.DataFrame({'id':final_r85_test.id, 'num_orders': num_orders_r85_results})"
   ]
  },
  {
   "cell_type": "code",
   "execution_count": 418,
   "metadata": {},
   "outputs": [],
   "source": [
    "##################Region 34 and 77#################################"
   ]
  },
  {
   "cell_type": "code",
   "execution_count": 419,
   "metadata": {},
   "outputs": [],
   "source": [
    "r3477 = final_df[(final_df.region_code == 34)  | (final_df.region_code == 77)]"
   ]
  },
  {
   "cell_type": "code",
   "execution_count": 420,
   "metadata": {},
   "outputs": [
    {
     "data": {
      "text/html": [
       "<div>\n",
       "<style scoped>\n",
       "    .dataframe tbody tr th:only-of-type {\n",
       "        vertical-align: middle;\n",
       "    }\n",
       "\n",
       "    .dataframe tbody tr th {\n",
       "        vertical-align: top;\n",
       "    }\n",
       "\n",
       "    .dataframe thead th {\n",
       "        text-align: right;\n",
       "    }\n",
       "</style>\n",
       "<table border=\"1\" class=\"dataframe\">\n",
       "  <thead>\n",
       "    <tr style=\"text-align: right;\">\n",
       "      <th></th>\n",
       "      <th>id</th>\n",
       "      <th>week</th>\n",
       "      <th>center_id</th>\n",
       "      <th>meal_id</th>\n",
       "      <th>checkout_price</th>\n",
       "      <th>base_price</th>\n",
       "      <th>emailer_for_promotion</th>\n",
       "      <th>homepage_featured</th>\n",
       "      <th>num_orders</th>\n",
       "      <th>category</th>\n",
       "      <th>cuisine</th>\n",
       "      <th>city_code</th>\n",
       "      <th>region_code</th>\n",
       "      <th>center_type</th>\n",
       "      <th>op_area</th>\n",
       "    </tr>\n",
       "  </thead>\n",
       "  <tbody>\n",
       "    <tr>\n",
       "      <td>456280</td>\n",
       "      <td>1437396</td>\n",
       "      <td>141</td>\n",
       "      <td>61</td>\n",
       "      <td>2104</td>\n",
       "      <td>583.03</td>\n",
       "      <td>630.53</td>\n",
       "      <td>0</td>\n",
       "      <td>1</td>\n",
       "      <td>13</td>\n",
       "      <td>Fish</td>\n",
       "      <td>Continental</td>\n",
       "      <td>473</td>\n",
       "      <td>77</td>\n",
       "      <td>TYPE_A</td>\n",
       "      <td>4.5</td>\n",
       "    </tr>\n",
       "    <tr>\n",
       "      <td>456281</td>\n",
       "      <td>1060716</td>\n",
       "      <td>142</td>\n",
       "      <td>61</td>\n",
       "      <td>2104</td>\n",
       "      <td>581.03</td>\n",
       "      <td>582.03</td>\n",
       "      <td>0</td>\n",
       "      <td>0</td>\n",
       "      <td>42</td>\n",
       "      <td>Fish</td>\n",
       "      <td>Continental</td>\n",
       "      <td>473</td>\n",
       "      <td>77</td>\n",
       "      <td>TYPE_A</td>\n",
       "      <td>4.5</td>\n",
       "    </tr>\n",
       "    <tr>\n",
       "      <td>456282</td>\n",
       "      <td>1029231</td>\n",
       "      <td>143</td>\n",
       "      <td>61</td>\n",
       "      <td>2104</td>\n",
       "      <td>583.03</td>\n",
       "      <td>581.03</td>\n",
       "      <td>0</td>\n",
       "      <td>0</td>\n",
       "      <td>40</td>\n",
       "      <td>Fish</td>\n",
       "      <td>Continental</td>\n",
       "      <td>473</td>\n",
       "      <td>77</td>\n",
       "      <td>TYPE_A</td>\n",
       "      <td>4.5</td>\n",
       "    </tr>\n",
       "    <tr>\n",
       "      <td>456283</td>\n",
       "      <td>1141147</td>\n",
       "      <td>144</td>\n",
       "      <td>61</td>\n",
       "      <td>2104</td>\n",
       "      <td>582.03</td>\n",
       "      <td>581.03</td>\n",
       "      <td>0</td>\n",
       "      <td>0</td>\n",
       "      <td>53</td>\n",
       "      <td>Fish</td>\n",
       "      <td>Continental</td>\n",
       "      <td>473</td>\n",
       "      <td>77</td>\n",
       "      <td>TYPE_A</td>\n",
       "      <td>4.5</td>\n",
       "    </tr>\n",
       "    <tr>\n",
       "      <td>456284</td>\n",
       "      <td>1443704</td>\n",
       "      <td>145</td>\n",
       "      <td>61</td>\n",
       "      <td>2104</td>\n",
       "      <td>581.03</td>\n",
       "      <td>582.03</td>\n",
       "      <td>0</td>\n",
       "      <td>0</td>\n",
       "      <td>27</td>\n",
       "      <td>Fish</td>\n",
       "      <td>Continental</td>\n",
       "      <td>473</td>\n",
       "      <td>77</td>\n",
       "      <td>TYPE_A</td>\n",
       "      <td>4.5</td>\n",
       "    </tr>\n",
       "  </tbody>\n",
       "</table>\n",
       "</div>"
      ],
      "text/plain": [
       "             id  week  center_id  meal_id  checkout_price  base_price  \\\n",
       "456280  1437396   141         61     2104          583.03      630.53   \n",
       "456281  1060716   142         61     2104          581.03      582.03   \n",
       "456282  1029231   143         61     2104          583.03      581.03   \n",
       "456283  1141147   144         61     2104          582.03      581.03   \n",
       "456284  1443704   145         61     2104          581.03      582.03   \n",
       "\n",
       "        emailer_for_promotion  homepage_featured  num_orders category  \\\n",
       "456280                      0                  1          13     Fish   \n",
       "456281                      0                  0          42     Fish   \n",
       "456282                      0                  0          40     Fish   \n",
       "456283                      0                  0          53     Fish   \n",
       "456284                      0                  0          27     Fish   \n",
       "\n",
       "            cuisine  city_code  region_code center_type  op_area  \n",
       "456280  Continental        473           77      TYPE_A      4.5  \n",
       "456281  Continental        473           77      TYPE_A      4.5  \n",
       "456282  Continental        473           77      TYPE_A      4.5  \n",
       "456283  Continental        473           77      TYPE_A      4.5  \n",
       "456284  Continental        473           77      TYPE_A      4.5  "
      ]
     },
     "execution_count": 420,
     "metadata": {},
     "output_type": "execute_result"
    }
   ],
   "source": [
    "r3477.tail(5)"
   ]
  },
  {
   "cell_type": "code",
   "execution_count": 421,
   "metadata": {},
   "outputs": [
    {
     "name": "stdout",
     "output_type": "stream",
     "text": [
      "<class 'pandas.core.frame.DataFrame'>\n",
      "Int64Index: 211280 entries, 17170 to 456284\n",
      "Data columns (total 15 columns):\n",
      "id                       211280 non-null int64\n",
      "week                     211280 non-null int64\n",
      "center_id                211280 non-null int64\n",
      "meal_id                  211280 non-null int64\n",
      "checkout_price           211280 non-null float64\n",
      "base_price               211280 non-null float64\n",
      "emailer_for_promotion    211280 non-null int64\n",
      "homepage_featured        211280 non-null int64\n",
      "num_orders               211280 non-null int64\n",
      "category                 211280 non-null object\n",
      "cuisine                  211280 non-null object\n",
      "city_code                211280 non-null int64\n",
      "region_code              211280 non-null int64\n",
      "center_type              211280 non-null object\n",
      "op_area                  211280 non-null float64\n",
      "dtypes: float64(3), int64(9), object(3)\n",
      "memory usage: 25.8+ MB\n"
     ]
    }
   ],
   "source": [
    "r3477.info()"
   ]
  },
  {
   "cell_type": "code",
   "execution_count": 422,
   "metadata": {},
   "outputs": [],
   "source": [
    "#Dropping unecessary columns"
   ]
  },
  {
   "cell_type": "code",
   "execution_count": 423,
   "metadata": {},
   "outputs": [],
   "source": [
    "clean_r3477 = r3477.drop(['center_id','meal_id','id','week','region_code','city_code'], axis=1)"
   ]
  },
  {
   "cell_type": "code",
   "execution_count": 424,
   "metadata": {},
   "outputs": [
    {
     "name": "stdout",
     "output_type": "stream",
     "text": [
      "<class 'pandas.core.frame.DataFrame'>\n",
      "Int64Index: 211280 entries, 17170 to 456284\n",
      "Data columns (total 9 columns):\n",
      "checkout_price           211280 non-null float64\n",
      "base_price               211280 non-null float64\n",
      "emailer_for_promotion    211280 non-null int64\n",
      "homepage_featured        211280 non-null int64\n",
      "num_orders               211280 non-null int64\n",
      "category                 211280 non-null object\n",
      "cuisine                  211280 non-null object\n",
      "center_type              211280 non-null object\n",
      "op_area                  211280 non-null float64\n",
      "dtypes: float64(3), int64(3), object(3)\n",
      "memory usage: 16.1+ MB\n"
     ]
    }
   ],
   "source": [
    "clean_r3477.info()"
   ]
  },
  {
   "cell_type": "code",
   "execution_count": 425,
   "metadata": {},
   "outputs": [],
   "source": [
    "final_r3477 = pd.get_dummies(clean_r3477,drop_first=True)"
   ]
  },
  {
   "cell_type": "code",
   "execution_count": 426,
   "metadata": {},
   "outputs": [],
   "source": [
    "#Rearranging columns"
   ]
  },
  {
   "cell_type": "code",
   "execution_count": 427,
   "metadata": {},
   "outputs": [],
   "source": [
    "cols = list(final_r3477.columns.values)"
   ]
  },
  {
   "cell_type": "code",
   "execution_count": 428,
   "metadata": {},
   "outputs": [
    {
     "data": {
      "text/plain": [
       "['checkout_price',\n",
       " 'base_price',\n",
       " 'emailer_for_promotion',\n",
       " 'homepage_featured',\n",
       " 'num_orders',\n",
       " 'op_area',\n",
       " 'category_Biryani',\n",
       " 'category_Desert',\n",
       " 'category_Fish',\n",
       " 'category_Other Snacks',\n",
       " 'category_Pasta',\n",
       " 'category_Pizza',\n",
       " 'category_Rice Bowl',\n",
       " 'category_Salad',\n",
       " 'category_Sandwich',\n",
       " 'category_Seafood',\n",
       " 'category_Starters',\n",
       " 'cuisine_Indian',\n",
       " 'cuisine_Italian',\n",
       " 'cuisine_Thai',\n",
       " 'center_type_TYPE_B',\n",
       " 'center_type_TYPE_C']"
      ]
     },
     "execution_count": 428,
     "metadata": {},
     "output_type": "execute_result"
    }
   ],
   "source": [
    "cols"
   ]
  },
  {
   "cell_type": "code",
   "execution_count": 429,
   "metadata": {},
   "outputs": [],
   "source": [
    "final_r3477 = final_r3477[['num_orders','op_area',\n",
    " 'checkout_price',\n",
    " 'base_price',\n",
    " 'emailer_for_promotion',\n",
    " 'homepage_featured',\n",
    " \n",
    " 'category_Biryani',\n",
    " 'category_Desert',\n",
    " 'category_Fish',\n",
    " 'category_Other Snacks',\n",
    " 'category_Pasta',\n",
    " 'category_Pizza',\n",
    " 'category_Rice Bowl',\n",
    " 'category_Salad',\n",
    " 'category_Sandwich',\n",
    " 'category_Seafood',\n",
    " 'category_Starters',\n",
    " 'cuisine_Indian',\n",
    " 'cuisine_Italian',\n",
    " 'cuisine_Thai',\n",
    " 'center_type_TYPE_B',\n",
    " 'center_type_TYPE_C']]"
   ]
  },
  {
   "cell_type": "code",
   "execution_count": 430,
   "metadata": {},
   "outputs": [
    {
     "data": {
      "text/html": [
       "<div>\n",
       "<style scoped>\n",
       "    .dataframe tbody tr th:only-of-type {\n",
       "        vertical-align: middle;\n",
       "    }\n",
       "\n",
       "    .dataframe tbody tr th {\n",
       "        vertical-align: top;\n",
       "    }\n",
       "\n",
       "    .dataframe thead th {\n",
       "        text-align: right;\n",
       "    }\n",
       "</style>\n",
       "<table border=\"1\" class=\"dataframe\">\n",
       "  <thead>\n",
       "    <tr style=\"text-align: right;\">\n",
       "      <th></th>\n",
       "      <th>num_orders</th>\n",
       "      <th>op_area</th>\n",
       "      <th>checkout_price</th>\n",
       "      <th>base_price</th>\n",
       "      <th>emailer_for_promotion</th>\n",
       "      <th>homepage_featured</th>\n",
       "      <th>category_Biryani</th>\n",
       "      <th>category_Desert</th>\n",
       "      <th>category_Fish</th>\n",
       "      <th>category_Other Snacks</th>\n",
       "      <th>...</th>\n",
       "      <th>category_Rice Bowl</th>\n",
       "      <th>category_Salad</th>\n",
       "      <th>category_Sandwich</th>\n",
       "      <th>category_Seafood</th>\n",
       "      <th>category_Starters</th>\n",
       "      <th>cuisine_Indian</th>\n",
       "      <th>cuisine_Italian</th>\n",
       "      <th>cuisine_Thai</th>\n",
       "      <th>center_type_TYPE_B</th>\n",
       "      <th>center_type_TYPE_C</th>\n",
       "    </tr>\n",
       "  </thead>\n",
       "  <tbody>\n",
       "    <tr>\n",
       "      <td>17170</td>\n",
       "      <td>1025</td>\n",
       "      <td>5.3</td>\n",
       "      <td>121.31</td>\n",
       "      <td>120.31</td>\n",
       "      <td>0</td>\n",
       "      <td>1</td>\n",
       "      <td>0</td>\n",
       "      <td>0</td>\n",
       "      <td>0</td>\n",
       "      <td>0</td>\n",
       "      <td>...</td>\n",
       "      <td>0</td>\n",
       "      <td>0</td>\n",
       "      <td>0</td>\n",
       "      <td>0</td>\n",
       "      <td>0</td>\n",
       "      <td>0</td>\n",
       "      <td>0</td>\n",
       "      <td>1</td>\n",
       "      <td>0</td>\n",
       "      <td>0</td>\n",
       "    </tr>\n",
       "  </tbody>\n",
       "</table>\n",
       "<p>1 rows × 22 columns</p>\n",
       "</div>"
      ],
      "text/plain": [
       "       num_orders  op_area  checkout_price  base_price  emailer_for_promotion  \\\n",
       "17170        1025      5.3          121.31      120.31                      0   \n",
       "\n",
       "       homepage_featured  category_Biryani  category_Desert  category_Fish  \\\n",
       "17170                  1                 0                0              0   \n",
       "\n",
       "       category_Other Snacks  ...  category_Rice Bowl  category_Salad  \\\n",
       "17170                      0  ...                   0               0   \n",
       "\n",
       "       category_Sandwich  category_Seafood  category_Starters  cuisine_Indian  \\\n",
       "17170                  0                 0                  0               0   \n",
       "\n",
       "       cuisine_Italian  cuisine_Thai  center_type_TYPE_B  center_type_TYPE_C  \n",
       "17170                0             1                   0                   0  \n",
       "\n",
       "[1 rows x 22 columns]"
      ]
     },
     "execution_count": 430,
     "metadata": {},
     "output_type": "execute_result"
    }
   ],
   "source": [
    "final_r3477.head(1)"
   ]
  },
  {
   "cell_type": "code",
   "execution_count": 431,
   "metadata": {},
   "outputs": [],
   "source": [
    "#Splitting data into training and testing sets"
   ]
  },
  {
   "cell_type": "code",
   "execution_count": 432,
   "metadata": {},
   "outputs": [],
   "source": [
    "X = final_r3477.iloc[:, 2:22].values  \n",
    "y = final_r3477.iloc[:, 0].values\n",
    "\n",
    "X_train, X_test, y_train, y_test = train_test_split(X, y, test_size=0.2, random_state=0)"
   ]
  },
  {
   "cell_type": "code",
   "execution_count": 433,
   "metadata": {},
   "outputs": [],
   "source": [
    "r3477_rf = RandomForestRegressor(n_estimators=1000, random_state=0)  \n",
    "r3477_rf.fit(X_train, y_train)  \n",
    "y_pred = r3477_rf.predict(X_test)"
   ]
  },
  {
   "cell_type": "code",
   "execution_count": 434,
   "metadata": {},
   "outputs": [
    {
     "name": "stdout",
     "output_type": "stream",
     "text": [
      "Root Mean Squared Error: 165.4275268599554\n",
      "Root Mean Squared Log Error: 0.6352682868761917\n"
     ]
    }
   ],
   "source": [
    "print('Root Mean Squared Error:', np.sqrt(metrics.mean_squared_error(y_test, y_pred)))\n",
    "print('Root Mean Squared Log Error:', np.sqrt(metrics.mean_squared_log_error(y_test, y_pred)))"
   ]
  },
  {
   "cell_type": "code",
   "execution_count": 435,
   "metadata": {},
   "outputs": [],
   "source": [
    "#Predicting on Test"
   ]
  },
  {
   "cell_type": "code",
   "execution_count": 436,
   "metadata": {},
   "outputs": [],
   "source": [
    "r3477_test = final_test[(final_test.region_code == 34)  | (final_test.region_code == 77)]\n",
    "\n",
    "clean_r3477_test = r3477_test.drop(['center_id','meal_id','week','region_code','city_code'], axis=1)\n",
    "\n",
    "final_r3477_test = pd.get_dummies(clean_r3477_test,drop_first=True)\n",
    "\n",
    "cols = list(final_r3477_test.columns.values)"
   ]
  },
  {
   "cell_type": "code",
   "execution_count": 437,
   "metadata": {},
   "outputs": [
    {
     "data": {
      "text/plain": [
       "['id',\n",
       " 'checkout_price',\n",
       " 'base_price',\n",
       " 'emailer_for_promotion',\n",
       " 'homepage_featured',\n",
       " 'op_area',\n",
       " 'category_Biryani',\n",
       " 'category_Desert',\n",
       " 'category_Fish',\n",
       " 'category_Other Snacks',\n",
       " 'category_Pasta',\n",
       " 'category_Pizza',\n",
       " 'category_Rice Bowl',\n",
       " 'category_Salad',\n",
       " 'category_Sandwich',\n",
       " 'category_Seafood',\n",
       " 'category_Starters',\n",
       " 'cuisine_Indian',\n",
       " 'cuisine_Italian',\n",
       " 'cuisine_Thai',\n",
       " 'center_type_TYPE_B',\n",
       " 'center_type_TYPE_C']"
      ]
     },
     "execution_count": 437,
     "metadata": {},
     "output_type": "execute_result"
    }
   ],
   "source": [
    "cols"
   ]
  },
  {
   "cell_type": "code",
   "execution_count": 438,
   "metadata": {},
   "outputs": [],
   "source": [
    "final_r3477_test = final_r3477_test[['id','op_area',\n",
    " 'checkout_price',\n",
    " 'base_price',\n",
    " 'emailer_for_promotion',\n",
    " 'homepage_featured',\n",
    " \n",
    " 'category_Biryani',\n",
    " 'category_Desert',\n",
    " 'category_Fish',\n",
    " 'category_Other Snacks',\n",
    " 'category_Pasta',\n",
    " 'category_Pizza',\n",
    " 'category_Rice Bowl',\n",
    " 'category_Salad',\n",
    " 'category_Sandwich',\n",
    " 'category_Seafood',\n",
    " 'category_Starters',\n",
    " 'cuisine_Indian',\n",
    " 'cuisine_Italian',\n",
    " 'cuisine_Thai',\n",
    " 'center_type_TYPE_B',\n",
    " 'center_type_TYPE_C']]"
   ]
  },
  {
   "cell_type": "code",
   "execution_count": 439,
   "metadata": {},
   "outputs": [],
   "source": [
    "test_score_r3477 = final_r3477_test.iloc[:, 2:22].values"
   ]
  },
  {
   "cell_type": "code",
   "execution_count": 440,
   "metadata": {},
   "outputs": [],
   "source": [
    "num_orders_r3477 = r3477_rf.predict(test_score_r3477)"
   ]
  },
  {
   "cell_type": "code",
   "execution_count": 441,
   "metadata": {},
   "outputs": [],
   "source": [
    "num_orders_r3477_results = np.ceil(num_orders_r3477)"
   ]
  },
  {
   "cell_type": "code",
   "execution_count": 442,
   "metadata": {},
   "outputs": [
    {
     "data": {
      "text/plain": [
       "array([594., 594., 594., ...,  46.,  46.,  51.])"
      ]
     },
     "execution_count": 442,
     "metadata": {},
     "output_type": "execute_result"
    }
   ],
   "source": [
    "num_orders_r3477_results"
   ]
  },
  {
   "cell_type": "code",
   "execution_count": 443,
   "metadata": {},
   "outputs": [],
   "source": [
    "sol_df_r3477 = pd.DataFrame({'id':final_r3477_test.id, 'num_orders': num_orders_r3477_results})"
   ]
  },
  {
   "cell_type": "code",
   "execution_count": 444,
   "metadata": {},
   "outputs": [],
   "source": [
    "##################Region 35, 71, 93 and 23#################################"
   ]
  },
  {
   "cell_type": "code",
   "execution_count": 445,
   "metadata": {},
   "outputs": [],
   "source": [
    "r_other = final_df[(final_df.region_code == 35)  | (final_df.region_code == 71) | (final_df.region_code == 93) | (final_df.region_code == 23)]"
   ]
  },
  {
   "cell_type": "code",
   "execution_count": 446,
   "metadata": {},
   "outputs": [
    {
     "data": {
      "text/html": [
       "<div>\n",
       "<style scoped>\n",
       "    .dataframe tbody tr th:only-of-type {\n",
       "        vertical-align: middle;\n",
       "    }\n",
       "\n",
       "    .dataframe tbody tr th {\n",
       "        vertical-align: top;\n",
       "    }\n",
       "\n",
       "    .dataframe thead th {\n",
       "        text-align: right;\n",
       "    }\n",
       "</style>\n",
       "<table border=\"1\" class=\"dataframe\">\n",
       "  <thead>\n",
       "    <tr style=\"text-align: right;\">\n",
       "      <th></th>\n",
       "      <th>id</th>\n",
       "      <th>week</th>\n",
       "      <th>center_id</th>\n",
       "      <th>meal_id</th>\n",
       "      <th>checkout_price</th>\n",
       "      <th>base_price</th>\n",
       "      <th>emailer_for_promotion</th>\n",
       "      <th>homepage_featured</th>\n",
       "      <th>num_orders</th>\n",
       "      <th>category</th>\n",
       "      <th>cuisine</th>\n",
       "      <th>city_code</th>\n",
       "      <th>region_code</th>\n",
       "      <th>center_type</th>\n",
       "      <th>op_area</th>\n",
       "    </tr>\n",
       "  </thead>\n",
       "  <tbody>\n",
       "    <tr>\n",
       "      <td>431705</td>\n",
       "      <td>1145027</td>\n",
       "      <td>140</td>\n",
       "      <td>23</td>\n",
       "      <td>2956</td>\n",
       "      <td>486.03</td>\n",
       "      <td>629.53</td>\n",
       "      <td>0</td>\n",
       "      <td>0</td>\n",
       "      <td>54</td>\n",
       "      <td>Fish</td>\n",
       "      <td>Continental</td>\n",
       "      <td>698</td>\n",
       "      <td>23</td>\n",
       "      <td>TYPE_A</td>\n",
       "      <td>3.4</td>\n",
       "    </tr>\n",
       "    <tr>\n",
       "      <td>431706</td>\n",
       "      <td>1459359</td>\n",
       "      <td>141</td>\n",
       "      <td>23</td>\n",
       "      <td>2956</td>\n",
       "      <td>590.73</td>\n",
       "      <td>592.73</td>\n",
       "      <td>0</td>\n",
       "      <td>0</td>\n",
       "      <td>54</td>\n",
       "      <td>Fish</td>\n",
       "      <td>Continental</td>\n",
       "      <td>698</td>\n",
       "      <td>23</td>\n",
       "      <td>TYPE_A</td>\n",
       "      <td>3.4</td>\n",
       "    </tr>\n",
       "    <tr>\n",
       "      <td>431707</td>\n",
       "      <td>1298687</td>\n",
       "      <td>143</td>\n",
       "      <td>23</td>\n",
       "      <td>2956</td>\n",
       "      <td>592.73</td>\n",
       "      <td>590.73</td>\n",
       "      <td>0</td>\n",
       "      <td>0</td>\n",
       "      <td>53</td>\n",
       "      <td>Fish</td>\n",
       "      <td>Continental</td>\n",
       "      <td>698</td>\n",
       "      <td>23</td>\n",
       "      <td>TYPE_A</td>\n",
       "      <td>3.4</td>\n",
       "    </tr>\n",
       "    <tr>\n",
       "      <td>431708</td>\n",
       "      <td>1309490</td>\n",
       "      <td>144</td>\n",
       "      <td>23</td>\n",
       "      <td>2956</td>\n",
       "      <td>591.73</td>\n",
       "      <td>591.73</td>\n",
       "      <td>0</td>\n",
       "      <td>0</td>\n",
       "      <td>55</td>\n",
       "      <td>Fish</td>\n",
       "      <td>Continental</td>\n",
       "      <td>698</td>\n",
       "      <td>23</td>\n",
       "      <td>TYPE_A</td>\n",
       "      <td>3.4</td>\n",
       "    </tr>\n",
       "    <tr>\n",
       "      <td>431709</td>\n",
       "      <td>1068363</td>\n",
       "      <td>145</td>\n",
       "      <td>23</td>\n",
       "      <td>2956</td>\n",
       "      <td>640.23</td>\n",
       "      <td>640.23</td>\n",
       "      <td>0</td>\n",
       "      <td>0</td>\n",
       "      <td>27</td>\n",
       "      <td>Fish</td>\n",
       "      <td>Continental</td>\n",
       "      <td>698</td>\n",
       "      <td>23</td>\n",
       "      <td>TYPE_A</td>\n",
       "      <td>3.4</td>\n",
       "    </tr>\n",
       "  </tbody>\n",
       "</table>\n",
       "</div>"
      ],
      "text/plain": [
       "             id  week  center_id  meal_id  checkout_price  base_price  \\\n",
       "431705  1145027   140         23     2956          486.03      629.53   \n",
       "431706  1459359   141         23     2956          590.73      592.73   \n",
       "431707  1298687   143         23     2956          592.73      590.73   \n",
       "431708  1309490   144         23     2956          591.73      591.73   \n",
       "431709  1068363   145         23     2956          640.23      640.23   \n",
       "\n",
       "        emailer_for_promotion  homepage_featured  num_orders category  \\\n",
       "431705                      0                  0          54     Fish   \n",
       "431706                      0                  0          54     Fish   \n",
       "431707                      0                  0          53     Fish   \n",
       "431708                      0                  0          55     Fish   \n",
       "431709                      0                  0          27     Fish   \n",
       "\n",
       "            cuisine  city_code  region_code center_type  op_area  \n",
       "431705  Continental        698           23      TYPE_A      3.4  \n",
       "431706  Continental        698           23      TYPE_A      3.4  \n",
       "431707  Continental        698           23      TYPE_A      3.4  \n",
       "431708  Continental        698           23      TYPE_A      3.4  \n",
       "431709  Continental        698           23      TYPE_A      3.4  "
      ]
     },
     "execution_count": 446,
     "metadata": {},
     "output_type": "execute_result"
    }
   ],
   "source": [
    "r_other.tail(5)"
   ]
  },
  {
   "cell_type": "code",
   "execution_count": 447,
   "metadata": {},
   "outputs": [
    {
     "name": "stdout",
     "output_type": "stream",
     "text": [
      "<class 'pandas.core.frame.DataFrame'>\n",
      "Int64Index: 23686 entries, 101132 to 431709\n",
      "Data columns (total 15 columns):\n",
      "id                       23686 non-null int64\n",
      "week                     23686 non-null int64\n",
      "center_id                23686 non-null int64\n",
      "meal_id                  23686 non-null int64\n",
      "checkout_price           23686 non-null float64\n",
      "base_price               23686 non-null float64\n",
      "emailer_for_promotion    23686 non-null int64\n",
      "homepage_featured        23686 non-null int64\n",
      "num_orders               23686 non-null int64\n",
      "category                 23686 non-null object\n",
      "cuisine                  23686 non-null object\n",
      "city_code                23686 non-null int64\n",
      "region_code              23686 non-null int64\n",
      "center_type              23686 non-null object\n",
      "op_area                  23686 non-null float64\n",
      "dtypes: float64(3), int64(9), object(3)\n",
      "memory usage: 2.9+ MB\n"
     ]
    }
   ],
   "source": [
    "r_other.info()"
   ]
  },
  {
   "cell_type": "code",
   "execution_count": 448,
   "metadata": {},
   "outputs": [],
   "source": [
    "#Dropping unecessary columns"
   ]
  },
  {
   "cell_type": "code",
   "execution_count": 449,
   "metadata": {},
   "outputs": [],
   "source": [
    "clean_rother = r_other.drop(['center_id','meal_id','id','week','region_code','city_code'], axis=1)"
   ]
  },
  {
   "cell_type": "code",
   "execution_count": 450,
   "metadata": {},
   "outputs": [
    {
     "name": "stdout",
     "output_type": "stream",
     "text": [
      "<class 'pandas.core.frame.DataFrame'>\n",
      "Int64Index: 23686 entries, 101132 to 431709\n",
      "Data columns (total 9 columns):\n",
      "checkout_price           23686 non-null float64\n",
      "base_price               23686 non-null float64\n",
      "emailer_for_promotion    23686 non-null int64\n",
      "homepage_featured        23686 non-null int64\n",
      "num_orders               23686 non-null int64\n",
      "category                 23686 non-null object\n",
      "cuisine                  23686 non-null object\n",
      "center_type              23686 non-null object\n",
      "op_area                  23686 non-null float64\n",
      "dtypes: float64(3), int64(3), object(3)\n",
      "memory usage: 1.8+ MB\n"
     ]
    }
   ],
   "source": [
    "clean_rother.info()"
   ]
  },
  {
   "cell_type": "code",
   "execution_count": 451,
   "metadata": {},
   "outputs": [],
   "source": [
    "final_rother = pd.get_dummies(clean_rother,drop_first=True)"
   ]
  },
  {
   "cell_type": "code",
   "execution_count": 452,
   "metadata": {},
   "outputs": [],
   "source": [
    "#Rearranging columns"
   ]
  },
  {
   "cell_type": "code",
   "execution_count": 453,
   "metadata": {},
   "outputs": [],
   "source": [
    "cols = list(final_rother.columns.values)"
   ]
  },
  {
   "cell_type": "code",
   "execution_count": 454,
   "metadata": {},
   "outputs": [
    {
     "data": {
      "text/plain": [
       "['checkout_price',\n",
       " 'base_price',\n",
       " 'emailer_for_promotion',\n",
       " 'homepage_featured',\n",
       " 'num_orders',\n",
       " 'op_area',\n",
       " 'category_Biryani',\n",
       " 'category_Desert',\n",
       " 'category_Extras',\n",
       " 'category_Fish',\n",
       " 'category_Other Snacks',\n",
       " 'category_Pasta',\n",
       " 'category_Pizza',\n",
       " 'category_Rice Bowl',\n",
       " 'category_Salad',\n",
       " 'category_Sandwich',\n",
       " 'category_Seafood',\n",
       " 'category_Soup',\n",
       " 'category_Starters',\n",
       " 'cuisine_Indian',\n",
       " 'cuisine_Italian',\n",
       " 'cuisine_Thai']"
      ]
     },
     "execution_count": 454,
     "metadata": {},
     "output_type": "execute_result"
    }
   ],
   "source": [
    "cols"
   ]
  },
  {
   "cell_type": "code",
   "execution_count": 455,
   "metadata": {},
   "outputs": [],
   "source": [
    "final_rother = final_rother[['num_orders', 'op_area',\n",
    " 'checkout_price',\n",
    " 'base_price',\n",
    " 'emailer_for_promotion',\n",
    " 'homepage_featured',\n",
    " 'category_Biryani',\n",
    " 'category_Desert',\n",
    " 'category_Extras',\n",
    " 'category_Fish',\n",
    " 'category_Other Snacks',\n",
    " 'category_Pasta',\n",
    " 'category_Pizza',\n",
    " 'category_Rice Bowl',\n",
    " 'category_Salad',\n",
    " 'category_Sandwich',\n",
    " 'category_Seafood',\n",
    " 'category_Soup',\n",
    " 'category_Starters',\n",
    " 'cuisine_Indian',\n",
    " 'cuisine_Italian',\n",
    " 'cuisine_Thai']]"
   ]
  },
  {
   "cell_type": "code",
   "execution_count": 456,
   "metadata": {},
   "outputs": [
    {
     "data": {
      "text/html": [
       "<div>\n",
       "<style scoped>\n",
       "    .dataframe tbody tr th:only-of-type {\n",
       "        vertical-align: middle;\n",
       "    }\n",
       "\n",
       "    .dataframe tbody tr th {\n",
       "        vertical-align: top;\n",
       "    }\n",
       "\n",
       "    .dataframe thead th {\n",
       "        text-align: right;\n",
       "    }\n",
       "</style>\n",
       "<table border=\"1\" class=\"dataframe\">\n",
       "  <thead>\n",
       "    <tr style=\"text-align: right;\">\n",
       "      <th></th>\n",
       "      <th>num_orders</th>\n",
       "      <th>op_area</th>\n",
       "      <th>checkout_price</th>\n",
       "      <th>base_price</th>\n",
       "      <th>emailer_for_promotion</th>\n",
       "      <th>homepage_featured</th>\n",
       "      <th>category_Biryani</th>\n",
       "      <th>category_Desert</th>\n",
       "      <th>category_Extras</th>\n",
       "      <th>category_Fish</th>\n",
       "      <th>...</th>\n",
       "      <th>category_Pizza</th>\n",
       "      <th>category_Rice Bowl</th>\n",
       "      <th>category_Salad</th>\n",
       "      <th>category_Sandwich</th>\n",
       "      <th>category_Seafood</th>\n",
       "      <th>category_Soup</th>\n",
       "      <th>category_Starters</th>\n",
       "      <th>cuisine_Indian</th>\n",
       "      <th>cuisine_Italian</th>\n",
       "      <th>cuisine_Thai</th>\n",
       "    </tr>\n",
       "  </thead>\n",
       "  <tbody>\n",
       "    <tr>\n",
       "      <td>101132</td>\n",
       "      <td>257</td>\n",
       "      <td>2.8</td>\n",
       "      <td>118.4</td>\n",
       "      <td>118.4</td>\n",
       "      <td>0</td>\n",
       "      <td>0</td>\n",
       "      <td>0</td>\n",
       "      <td>0</td>\n",
       "      <td>0</td>\n",
       "      <td>0</td>\n",
       "      <td>...</td>\n",
       "      <td>0</td>\n",
       "      <td>0</td>\n",
       "      <td>0</td>\n",
       "      <td>0</td>\n",
       "      <td>0</td>\n",
       "      <td>0</td>\n",
       "      <td>0</td>\n",
       "      <td>0</td>\n",
       "      <td>0</td>\n",
       "      <td>1</td>\n",
       "    </tr>\n",
       "  </tbody>\n",
       "</table>\n",
       "<p>1 rows × 22 columns</p>\n",
       "</div>"
      ],
      "text/plain": [
       "        num_orders  op_area  checkout_price  base_price  \\\n",
       "101132         257      2.8           118.4       118.4   \n",
       "\n",
       "        emailer_for_promotion  homepage_featured  category_Biryani  \\\n",
       "101132                      0                  0                 0   \n",
       "\n",
       "        category_Desert  category_Extras  category_Fish  ...  category_Pizza  \\\n",
       "101132                0                0              0  ...               0   \n",
       "\n",
       "        category_Rice Bowl  category_Salad  category_Sandwich  \\\n",
       "101132                   0               0                  0   \n",
       "\n",
       "        category_Seafood  category_Soup  category_Starters  cuisine_Indian  \\\n",
       "101132                 0              0                  0               0   \n",
       "\n",
       "        cuisine_Italian  cuisine_Thai  \n",
       "101132                0             1  \n",
       "\n",
       "[1 rows x 22 columns]"
      ]
     },
     "execution_count": 456,
     "metadata": {},
     "output_type": "execute_result"
    }
   ],
   "source": [
    "final_rother.head(1)"
   ]
  },
  {
   "cell_type": "code",
   "execution_count": 457,
   "metadata": {},
   "outputs": [],
   "source": [
    "#Splitting data into training and testing sets"
   ]
  },
  {
   "cell_type": "code",
   "execution_count": 458,
   "metadata": {},
   "outputs": [],
   "source": [
    "X = final_rother.iloc[:, 2:22].values  \n",
    "y = final_rother.iloc[:, 0].values\n",
    "\n",
    "X_train, X_test, y_train, y_test = train_test_split(X, y, test_size=0.2, random_state=0)"
   ]
  },
  {
   "cell_type": "code",
   "execution_count": 459,
   "metadata": {},
   "outputs": [],
   "source": [
    "rother_rf = RandomForestRegressor(n_estimators=1000, random_state=0)  \n",
    "rother_rf.fit(X_train, y_train)  \n",
    "y_pred = rother_rf.predict(X_test)"
   ]
  },
  {
   "cell_type": "code",
   "execution_count": 460,
   "metadata": {},
   "outputs": [
    {
     "name": "stdout",
     "output_type": "stream",
     "text": [
      "Root Mean Squared Error: 220.61276614976495\n",
      "Root Mean Squared Log Error: 0.664900647200119\n"
     ]
    }
   ],
   "source": [
    "print('Root Mean Squared Error:', np.sqrt(metrics.mean_squared_error(y_test, y_pred)))\n",
    "print('Root Mean Squared Log Error:', np.sqrt(metrics.mean_squared_log_error(y_test, y_pred)))"
   ]
  },
  {
   "cell_type": "code",
   "execution_count": 461,
   "metadata": {},
   "outputs": [],
   "source": [
    "#Predicting on Test"
   ]
  },
  {
   "cell_type": "code",
   "execution_count": 462,
   "metadata": {},
   "outputs": [],
   "source": [
    "rother_test = final_test[(final_test.region_code == 35)  | (final_test.region_code == 71) | (final_test.region_code == 93) | (final_test.region_code == 23) ]\n",
    "\n",
    "clean_rother_test = rother_test.drop(['center_id','meal_id','week','region_code','city_code'], axis=1)\n",
    "\n",
    "final_rother_test = pd.get_dummies(clean_rother_test,drop_first=True)\n",
    "\n",
    "cols = list(final_rother_test.columns.values)"
   ]
  },
  {
   "cell_type": "code",
   "execution_count": 463,
   "metadata": {},
   "outputs": [
    {
     "data": {
      "text/plain": [
       "['id',\n",
       " 'checkout_price',\n",
       " 'base_price',\n",
       " 'emailer_for_promotion',\n",
       " 'homepage_featured',\n",
       " 'op_area',\n",
       " 'category_Biryani',\n",
       " 'category_Desert',\n",
       " 'category_Extras',\n",
       " 'category_Fish',\n",
       " 'category_Other Snacks',\n",
       " 'category_Pasta',\n",
       " 'category_Pizza',\n",
       " 'category_Rice Bowl',\n",
       " 'category_Salad',\n",
       " 'category_Sandwich',\n",
       " 'category_Seafood',\n",
       " 'category_Soup',\n",
       " 'category_Starters',\n",
       " 'cuisine_Indian',\n",
       " 'cuisine_Italian',\n",
       " 'cuisine_Thai']"
      ]
     },
     "execution_count": 463,
     "metadata": {},
     "output_type": "execute_result"
    }
   ],
   "source": [
    "cols"
   ]
  },
  {
   "cell_type": "code",
   "execution_count": 464,
   "metadata": {},
   "outputs": [],
   "source": [
    "final_r3477_test = final_r3477_test[['id','op_area',\n",
    " 'checkout_price',\n",
    " 'base_price',\n",
    " 'emailer_for_promotion',\n",
    " 'homepage_featured',\n",
    " 'category_Biryani',\n",
    " 'category_Desert',\n",
    " 'category_Fish',\n",
    " 'category_Other Snacks',\n",
    " 'category_Pasta',\n",
    " 'category_Pizza',\n",
    " 'category_Rice Bowl',\n",
    " 'category_Salad',\n",
    " 'category_Sandwich',\n",
    " 'category_Seafood',\n",
    " 'category_Starters',\n",
    " 'cuisine_Indian',\n",
    " 'cuisine_Italian',\n",
    " 'cuisine_Thai']]"
   ]
  },
  {
   "cell_type": "code",
   "execution_count": 465,
   "metadata": {},
   "outputs": [],
   "source": [
    "test_score_rother = final_rother_test.iloc[:, 2:22].values"
   ]
  },
  {
   "cell_type": "code",
   "execution_count": 466,
   "metadata": {},
   "outputs": [],
   "source": [
    "num_orders_rother = rother_rf.predict(test_score_rother)"
   ]
  },
  {
   "cell_type": "code",
   "execution_count": 467,
   "metadata": {},
   "outputs": [],
   "source": [
    "num_orders_rother_results = np.ceil(num_orders_rother)"
   ]
  },
  {
   "cell_type": "code",
   "execution_count": 468,
   "metadata": {},
   "outputs": [
    {
     "data": {
      "text/plain": [
       "array([884., 888., 888., ..., 113., 111., 112.])"
      ]
     },
     "execution_count": 468,
     "metadata": {},
     "output_type": "execute_result"
    }
   ],
   "source": [
    "num_orders_rother_results"
   ]
  },
  {
   "cell_type": "code",
   "execution_count": 469,
   "metadata": {},
   "outputs": [],
   "source": [
    "sol_df_rother = pd.DataFrame({'id':final_rother_test.id, 'num_orders': num_orders_rother_results})"
   ]
  },
  {
   "cell_type": "code",
   "execution_count": 470,
   "metadata": {},
   "outputs": [],
   "source": [
    "final_sol = pd.concat([sol_df_r56,sol_df_r85,sol_df_r3477,sol_df_rother])"
   ]
  },
  {
   "cell_type": "code",
   "execution_count": 471,
   "metadata": {},
   "outputs": [],
   "source": [
    "final_sol.to_csv('results_final.csv',index=False)"
   ]
  },
  {
   "cell_type": "code",
   "execution_count": null,
   "metadata": {},
   "outputs": [],
   "source": []
  },
  {
   "cell_type": "code",
   "execution_count": null,
   "metadata": {},
   "outputs": [],
   "source": []
  },
  {
   "cell_type": "code",
   "execution_count": null,
   "metadata": {},
   "outputs": [],
   "source": []
  }
 ],
 "metadata": {
  "kernelspec": {
   "display_name": "Python 3",
   "language": "python",
   "name": "python3"
  },
  "language_info": {
   "codemirror_mode": {
    "name": "ipython",
    "version": 3
   },
   "file_extension": ".py",
   "mimetype": "text/x-python",
   "name": "python",
   "nbconvert_exporter": "python",
   "pygments_lexer": "ipython3",
   "version": "3.7.4"
  }
 },
 "nbformat": 4,
 "nbformat_minor": 2
}
