{
 "cells": [
  {
   "cell_type": "code",
   "execution_count": 306,
   "metadata": {},
   "outputs": [],
   "source": [
    "import matplotlib as plt\n",
    "import numpy as np\n",
    "import pandas as pd\n",
    "from sklearn.preprocessing import OneHotEncoder\n",
    "from sklearn.preprocessing import LabelEncoder\n",
    "from sklearn.model_selection import train_test_split\n",
    "from sklearn.ensemble import RandomForestRegressor\n",
    "from sklearn import metrics\n",
    "from sklearn.preprocessing import StandardScaler\n",
    "from sklearn import datasets, linear_model, metrics \n",
    "from sklearn import datasets, linear_model\n",
    "from sklearn.metrics import mean_squared_error, r2_score\n",
    "from sklearn.svm import SVR"
   ]
  },
  {
   "cell_type": "code",
   "execution_count": 307,
   "metadata": {},
   "outputs": [],
   "source": [
    "#Reading in the datasets"
   ]
  },
  {
   "cell_type": "code",
   "execution_count": null,
   "metadata": {},
   "outputs": [],
   "source": []
  },
  {
   "cell_type": "code",
   "execution_count": 308,
   "metadata": {},
   "outputs": [],
   "source": [
    "train = pd.read_csv('train.csv')\n",
    "mi = pd.read_csv('meal_info.csv')\n",
    "fci = pd.read_csv('fulfilment_center_info.csv')\n",
    "test = pd.read_csv('test.csv')"
   ]
  },
  {
   "cell_type": "code",
   "execution_count": 309,
   "metadata": {},
   "outputs": [
    {
     "data": {
      "text/html": [
       "<div>\n",
       "<style scoped>\n",
       "    .dataframe tbody tr th:only-of-type {\n",
       "        vertical-align: middle;\n",
       "    }\n",
       "\n",
       "    .dataframe tbody tr th {\n",
       "        vertical-align: top;\n",
       "    }\n",
       "\n",
       "    .dataframe thead th {\n",
       "        text-align: right;\n",
       "    }\n",
       "</style>\n",
       "<table border=\"1\" class=\"dataframe\">\n",
       "  <thead>\n",
       "    <tr style=\"text-align: right;\">\n",
       "      <th></th>\n",
       "      <th>center_id</th>\n",
       "      <th>city_code</th>\n",
       "      <th>region_code</th>\n",
       "      <th>op_area</th>\n",
       "    </tr>\n",
       "  </thead>\n",
       "  <tbody>\n",
       "    <tr>\n",
       "      <td>count</td>\n",
       "      <td>77.000000</td>\n",
       "      <td>77.000000</td>\n",
       "      <td>77.000000</td>\n",
       "      <td>77.000000</td>\n",
       "    </tr>\n",
       "    <tr>\n",
       "      <td>mean</td>\n",
       "      <td>83.142857</td>\n",
       "      <td>600.662338</td>\n",
       "      <td>56.493506</td>\n",
       "      <td>3.985714</td>\n",
       "    </tr>\n",
       "    <tr>\n",
       "      <td>std</td>\n",
       "      <td>46.090219</td>\n",
       "      <td>66.720274</td>\n",
       "      <td>18.126473</td>\n",
       "      <td>1.106406</td>\n",
       "    </tr>\n",
       "    <tr>\n",
       "      <td>min</td>\n",
       "      <td>10.000000</td>\n",
       "      <td>456.000000</td>\n",
       "      <td>23.000000</td>\n",
       "      <td>0.900000</td>\n",
       "    </tr>\n",
       "    <tr>\n",
       "      <td>25%</td>\n",
       "      <td>50.000000</td>\n",
       "      <td>553.000000</td>\n",
       "      <td>34.000000</td>\n",
       "      <td>3.500000</td>\n",
       "    </tr>\n",
       "    <tr>\n",
       "      <td>50%</td>\n",
       "      <td>77.000000</td>\n",
       "      <td>596.000000</td>\n",
       "      <td>56.000000</td>\n",
       "      <td>3.900000</td>\n",
       "    </tr>\n",
       "    <tr>\n",
       "      <td>75%</td>\n",
       "      <td>110.000000</td>\n",
       "      <td>651.000000</td>\n",
       "      <td>77.000000</td>\n",
       "      <td>4.400000</td>\n",
       "    </tr>\n",
       "    <tr>\n",
       "      <td>max</td>\n",
       "      <td>186.000000</td>\n",
       "      <td>713.000000</td>\n",
       "      <td>93.000000</td>\n",
       "      <td>7.000000</td>\n",
       "    </tr>\n",
       "  </tbody>\n",
       "</table>\n",
       "</div>"
      ],
      "text/plain": [
       "        center_id   city_code  region_code    op_area\n",
       "count   77.000000   77.000000    77.000000  77.000000\n",
       "mean    83.142857  600.662338    56.493506   3.985714\n",
       "std     46.090219   66.720274    18.126473   1.106406\n",
       "min     10.000000  456.000000    23.000000   0.900000\n",
       "25%     50.000000  553.000000    34.000000   3.500000\n",
       "50%     77.000000  596.000000    56.000000   3.900000\n",
       "75%    110.000000  651.000000    77.000000   4.400000\n",
       "max    186.000000  713.000000    93.000000   7.000000"
      ]
     },
     "execution_count": 309,
     "metadata": {},
     "output_type": "execute_result"
    }
   ],
   "source": [
    "train=train.loc[train['num_orders']<2000,:]\n",
    "fci.describe()"
   ]
  },
  {
   "cell_type": "code",
   "execution_count": 310,
   "metadata": {},
   "outputs": [],
   "source": [
    "#Combining tables to create final table"
   ]
  },
  {
   "cell_type": "code",
   "execution_count": 311,
   "metadata": {},
   "outputs": [],
   "source": [
    "meal_merge = pd.merge(train,\n",
    "                 mi[['meal_id','category', 'cuisine']],\n",
    "                 on='meal_id')\n",
    "\n",
    "final_df = pd.merge(meal_merge,\n",
    "                    fci[['center_id','city_code', 'region_code','center_type','op_area']],\n",
    "                    on='center_id')"
   ]
  },
  {
   "cell_type": "code",
   "execution_count": 312,
   "metadata": {},
   "outputs": [
    {
     "data": {
      "text/plain": [
       "(453148, 15)"
      ]
     },
     "execution_count": 312,
     "metadata": {},
     "output_type": "execute_result"
    }
   ],
   "source": [
    "final_df.shape"
   ]
  },
  {
   "cell_type": "code",
   "execution_count": 313,
   "metadata": {},
   "outputs": [],
   "source": [
    "final_df = final_df.drop(['center_id','meal_id','id'], axis=1)"
   ]
  },
  {
   "cell_type": "code",
   "execution_count": 314,
   "metadata": {},
   "outputs": [],
   "source": [
    "final_df['city_code']=final_df['city_code'].astype(str)"
   ]
  },
  {
   "cell_type": "code",
   "execution_count": 315,
   "metadata": {},
   "outputs": [],
   "source": [
    "final_df['week']=final_df['week']%52"
   ]
  },
  {
   "cell_type": "code",
   "execution_count": 316,
   "metadata": {},
   "outputs": [],
   "source": [
    "final_df['week']=final_df['week'].astype(str)"
   ]
  },
  {
   "cell_type": "code",
   "execution_count": 317,
   "metadata": {},
   "outputs": [],
   "source": [
    "wcc_mean=final_df.groupby(['week','city_code','category'],as_index=False).agg({'num_orders':'mean'})"
   ]
  },
  {
   "cell_type": "code",
   "execution_count": 318,
   "metadata": {},
   "outputs": [],
   "source": [
    "wcc_join=pd.merge(final_df,wcc_mean,on=('week','city_code','category'))"
   ]
  },
  {
   "cell_type": "code",
   "execution_count": 319,
   "metadata": {},
   "outputs": [
    {
     "data": {
      "text/plain": [
       "(453148, 13)"
      ]
     },
     "execution_count": 319,
     "metadata": {},
     "output_type": "execute_result"
    }
   ],
   "source": [
    "wcc_join.shape"
   ]
  },
  {
   "cell_type": "code",
   "execution_count": 320,
   "metadata": {},
   "outputs": [],
   "source": [
    "final_df=wcc_join"
   ]
  },
  {
   "cell_type": "code",
   "execution_count": 321,
   "metadata": {},
   "outputs": [],
   "source": [
    "final_df=final_df.drop(['week','category','city_code'],axis=1)"
   ]
  },
  {
   "cell_type": "code",
   "execution_count": 322,
   "metadata": {},
   "outputs": [],
   "source": [
    "final_df.columns=['checkout_price', 'base_price', 'emailer_for_promotion',\n",
    "       'homepage_featured', 'num_orders', 'cuisine', 'region_code',\n",
    "       'center_type', 'op_area', 'num_orders_mean']"
   ]
  },
  {
   "cell_type": "code",
   "execution_count": 323,
   "metadata": {},
   "outputs": [],
   "source": [
    "#Feature Engineering"
   ]
  },
  {
   "cell_type": "code",
   "execution_count": 324,
   "metadata": {},
   "outputs": [],
   "source": [
    "final_df['Discount']=final_df['base_price']-final_df['checkout_price']"
   ]
  },
  {
   "cell_type": "code",
   "execution_count": 325,
   "metadata": {},
   "outputs": [],
   "source": [
    "final_df.loc[final_df['Discount'] < 0, 'Discount'] = 0"
   ]
  },
  {
   "cell_type": "code",
   "execution_count": 326,
   "metadata": {},
   "outputs": [],
   "source": [
    "final_df = pd.get_dummies(final_df,drop_first=True)"
   ]
  },
  {
   "cell_type": "code",
   "execution_count": 327,
   "metadata": {},
   "outputs": [
    {
     "data": {
      "text/html": [
       "<div>\n",
       "<style scoped>\n",
       "    .dataframe tbody tr th:only-of-type {\n",
       "        vertical-align: middle;\n",
       "    }\n",
       "\n",
       "    .dataframe tbody tr th {\n",
       "        vertical-align: top;\n",
       "    }\n",
       "\n",
       "    .dataframe thead th {\n",
       "        text-align: right;\n",
       "    }\n",
       "</style>\n",
       "<table border=\"1\" class=\"dataframe\">\n",
       "  <thead>\n",
       "    <tr style=\"text-align: right;\">\n",
       "      <th></th>\n",
       "      <th>checkout_price</th>\n",
       "      <th>base_price</th>\n",
       "      <th>emailer_for_promotion</th>\n",
       "      <th>homepage_featured</th>\n",
       "      <th>num_orders</th>\n",
       "      <th>region_code</th>\n",
       "      <th>op_area</th>\n",
       "      <th>num_orders_mean</th>\n",
       "      <th>Discount</th>\n",
       "      <th>cuisine_Indian</th>\n",
       "      <th>cuisine_Italian</th>\n",
       "      <th>cuisine_Thai</th>\n",
       "      <th>center_type_TYPE_B</th>\n",
       "      <th>center_type_TYPE_C</th>\n",
       "    </tr>\n",
       "  </thead>\n",
       "  <tbody>\n",
       "    <tr>\n",
       "      <td>count</td>\n",
       "      <td>453148.000000</td>\n",
       "      <td>453148.000000</td>\n",
       "      <td>453148.000000</td>\n",
       "      <td>453148.000000</td>\n",
       "      <td>453148.000000</td>\n",
       "      <td>453148.000000</td>\n",
       "      <td>453148.000000</td>\n",
       "      <td>453148.000000</td>\n",
       "      <td>453148.000000</td>\n",
       "      <td>453148.000000</td>\n",
       "      <td>453148.000000</td>\n",
       "      <td>453148.000000</td>\n",
       "      <td>453148.000000</td>\n",
       "      <td>453148.000000</td>\n",
       "    </tr>\n",
       "    <tr>\n",
       "      <td>mean</td>\n",
       "      <td>333.260200</td>\n",
       "      <td>354.772133</td>\n",
       "      <td>0.076880</td>\n",
       "      <td>0.104637</td>\n",
       "      <td>240.709393</td>\n",
       "      <td>56.600691</td>\n",
       "      <td>4.077532</td>\n",
       "      <td>240.709393</td>\n",
       "      <td>21.984518</td>\n",
       "      <td>0.245944</td>\n",
       "      <td>0.267954</td>\n",
       "      <td>0.259308</td>\n",
       "      <td>0.205483</td>\n",
       "      <td>0.218628</td>\n",
       "    </tr>\n",
       "    <tr>\n",
       "      <td>std</td>\n",
       "      <td>152.996306</td>\n",
       "      <td>160.992740</td>\n",
       "      <td>0.266401</td>\n",
       "      <td>0.306085</td>\n",
       "      <td>286.852995</td>\n",
       "      <td>17.664059</td>\n",
       "      <td>1.087755</td>\n",
       "      <td>178.505034</td>\n",
       "      <td>47.897670</td>\n",
       "      <td>0.430646</td>\n",
       "      <td>0.442894</td>\n",
       "      <td>0.438256</td>\n",
       "      <td>0.404054</td>\n",
       "      <td>0.413316</td>\n",
       "    </tr>\n",
       "    <tr>\n",
       "      <td>min</td>\n",
       "      <td>2.970000</td>\n",
       "      <td>55.350000</td>\n",
       "      <td>0.000000</td>\n",
       "      <td>0.000000</td>\n",
       "      <td>13.000000</td>\n",
       "      <td>23.000000</td>\n",
       "      <td>0.900000</td>\n",
       "      <td>13.000000</td>\n",
       "      <td>0.000000</td>\n",
       "      <td>0.000000</td>\n",
       "      <td>0.000000</td>\n",
       "      <td>0.000000</td>\n",
       "      <td>0.000000</td>\n",
       "      <td>0.000000</td>\n",
       "    </tr>\n",
       "    <tr>\n",
       "      <td>25%</td>\n",
       "      <td>231.830000</td>\n",
       "      <td>243.500000</td>\n",
       "      <td>0.000000</td>\n",
       "      <td>0.000000</td>\n",
       "      <td>54.000000</td>\n",
       "      <td>34.000000</td>\n",
       "      <td>3.600000</td>\n",
       "      <td>87.739130</td>\n",
       "      <td>0.000000</td>\n",
       "      <td>0.000000</td>\n",
       "      <td>0.000000</td>\n",
       "      <td>0.000000</td>\n",
       "      <td>0.000000</td>\n",
       "      <td>0.000000</td>\n",
       "    </tr>\n",
       "    <tr>\n",
       "      <td>50%</td>\n",
       "      <td>298.760000</td>\n",
       "      <td>311.430000</td>\n",
       "      <td>0.000000</td>\n",
       "      <td>0.000000</td>\n",
       "      <td>135.000000</td>\n",
       "      <td>56.000000</td>\n",
       "      <td>4.000000</td>\n",
       "      <td>196.000000</td>\n",
       "      <td>0.030000</td>\n",
       "      <td>0.000000</td>\n",
       "      <td>0.000000</td>\n",
       "      <td>0.000000</td>\n",
       "      <td>0.000000</td>\n",
       "      <td>0.000000</td>\n",
       "    </tr>\n",
       "    <tr>\n",
       "      <td>75%</td>\n",
       "      <td>445.230000</td>\n",
       "      <td>463.720000</td>\n",
       "      <td>0.000000</td>\n",
       "      <td>0.000000</td>\n",
       "      <td>312.000000</td>\n",
       "      <td>77.000000</td>\n",
       "      <td>4.500000</td>\n",
       "      <td>363.163194</td>\n",
       "      <td>6.850000</td>\n",
       "      <td>0.000000</td>\n",
       "      <td>1.000000</td>\n",
       "      <td>1.000000</td>\n",
       "      <td>0.000000</td>\n",
       "      <td>0.000000</td>\n",
       "    </tr>\n",
       "    <tr>\n",
       "      <td>max</td>\n",
       "      <td>866.270000</td>\n",
       "      <td>866.270000</td>\n",
       "      <td>1.000000</td>\n",
       "      <td>1.000000</td>\n",
       "      <td>1999.000000</td>\n",
       "      <td>93.000000</td>\n",
       "      <td>7.000000</td>\n",
       "      <td>1447.750000</td>\n",
       "      <td>561.600000</td>\n",
       "      <td>1.000000</td>\n",
       "      <td>1.000000</td>\n",
       "      <td>1.000000</td>\n",
       "      <td>1.000000</td>\n",
       "      <td>1.000000</td>\n",
       "    </tr>\n",
       "  </tbody>\n",
       "</table>\n",
       "</div>"
      ],
      "text/plain": [
       "       checkout_price     base_price  emailer_for_promotion  \\\n",
       "count   453148.000000  453148.000000          453148.000000   \n",
       "mean       333.260200     354.772133               0.076880   \n",
       "std        152.996306     160.992740               0.266401   \n",
       "min          2.970000      55.350000               0.000000   \n",
       "25%        231.830000     243.500000               0.000000   \n",
       "50%        298.760000     311.430000               0.000000   \n",
       "75%        445.230000     463.720000               0.000000   \n",
       "max        866.270000     866.270000               1.000000   \n",
       "\n",
       "       homepage_featured     num_orders    region_code        op_area  \\\n",
       "count      453148.000000  453148.000000  453148.000000  453148.000000   \n",
       "mean            0.104637     240.709393      56.600691       4.077532   \n",
       "std             0.306085     286.852995      17.664059       1.087755   \n",
       "min             0.000000      13.000000      23.000000       0.900000   \n",
       "25%             0.000000      54.000000      34.000000       3.600000   \n",
       "50%             0.000000     135.000000      56.000000       4.000000   \n",
       "75%             0.000000     312.000000      77.000000       4.500000   \n",
       "max             1.000000    1999.000000      93.000000       7.000000   \n",
       "\n",
       "       num_orders_mean       Discount  cuisine_Indian  cuisine_Italian  \\\n",
       "count    453148.000000  453148.000000   453148.000000    453148.000000   \n",
       "mean        240.709393      21.984518        0.245944         0.267954   \n",
       "std         178.505034      47.897670        0.430646         0.442894   \n",
       "min          13.000000       0.000000        0.000000         0.000000   \n",
       "25%          87.739130       0.000000        0.000000         0.000000   \n",
       "50%         196.000000       0.030000        0.000000         0.000000   \n",
       "75%         363.163194       6.850000        0.000000         1.000000   \n",
       "max        1447.750000     561.600000        1.000000         1.000000   \n",
       "\n",
       "        cuisine_Thai  center_type_TYPE_B  center_type_TYPE_C  \n",
       "count  453148.000000       453148.000000       453148.000000  \n",
       "mean        0.259308            0.205483            0.218628  \n",
       "std         0.438256            0.404054            0.413316  \n",
       "min         0.000000            0.000000            0.000000  \n",
       "25%         0.000000            0.000000            0.000000  \n",
       "50%         0.000000            0.000000            0.000000  \n",
       "75%         1.000000            0.000000            0.000000  \n",
       "max         1.000000            1.000000            1.000000  "
      ]
     },
     "execution_count": 327,
     "metadata": {},
     "output_type": "execute_result"
    }
   ],
   "source": [
    "final_df.describe()"
   ]
  },
  {
   "cell_type": "code",
   "execution_count": 328,
   "metadata": {},
   "outputs": [],
   "source": [
    "#####Creating test data set##########"
   ]
  },
  {
   "cell_type": "code",
   "execution_count": 329,
   "metadata": {},
   "outputs": [
    {
     "data": {
      "text/plain": [
       "(32573, 14)"
      ]
     },
     "execution_count": 329,
     "metadata": {},
     "output_type": "execute_result"
    }
   ],
   "source": [
    "test_merge1 = pd.merge(test,\n",
    "                 mi[['meal_id','category', 'cuisine']],\n",
    "                 on='meal_id')\n",
    "\n",
    "final_test = pd.merge(test_merge1,\n",
    "                    fci[['center_id','city_code', 'region_code','center_type','op_area']],\n",
    "                    on='center_id')\n",
    "final_test.shape\n"
   ]
  },
  {
   "cell_type": "code",
   "execution_count": 330,
   "metadata": {},
   "outputs": [],
   "source": [
    "final_test = final_test.drop(['center_id','meal_id'], axis=1)"
   ]
  },
  {
   "cell_type": "code",
   "execution_count": 331,
   "metadata": {},
   "outputs": [],
   "source": [
    "final_test['city_code']=final_test['city_code'].astype(str)"
   ]
  },
  {
   "cell_type": "code",
   "execution_count": 332,
   "metadata": {},
   "outputs": [],
   "source": [
    "final_test['week']=final_test['week']%52"
   ]
  },
  {
   "cell_type": "code",
   "execution_count": 333,
   "metadata": {},
   "outputs": [],
   "source": [
    "final_test['week']=final_test['week'].astype(str)"
   ]
  },
  {
   "cell_type": "code",
   "execution_count": 334,
   "metadata": {},
   "outputs": [
    {
     "data": {
      "text/plain": [
       "(32573, 12)"
      ]
     },
     "execution_count": 334,
     "metadata": {},
     "output_type": "execute_result"
    }
   ],
   "source": [
    "final_test.shape"
   ]
  },
  {
   "cell_type": "code",
   "execution_count": 335,
   "metadata": {},
   "outputs": [],
   "source": [
    "final_test=pd.merge(final_test,wcc_mean,on=('week','city_code','category'),how='left')"
   ]
  },
  {
   "cell_type": "code",
   "execution_count": 336,
   "metadata": {},
   "outputs": [
    {
     "data": {
      "text/plain": [
       "(32573, 13)"
      ]
     },
     "execution_count": 336,
     "metadata": {},
     "output_type": "execute_result"
    }
   ],
   "source": [
    "final_test.shape"
   ]
  },
  {
   "cell_type": "code",
   "execution_count": 337,
   "metadata": {},
   "outputs": [],
   "source": [
    "null_data = final_test[final_test.isnull().any(axis=1)]"
   ]
  },
  {
   "cell_type": "code",
   "execution_count": 338,
   "metadata": {},
   "outputs": [
    {
     "data": {
      "text/html": [
       "<div>\n",
       "<style scoped>\n",
       "    .dataframe tbody tr th:only-of-type {\n",
       "        vertical-align: middle;\n",
       "    }\n",
       "\n",
       "    .dataframe tbody tr th {\n",
       "        vertical-align: top;\n",
       "    }\n",
       "\n",
       "    .dataframe thead th {\n",
       "        text-align: right;\n",
       "    }\n",
       "</style>\n",
       "<table border=\"1\" class=\"dataframe\">\n",
       "  <thead>\n",
       "    <tr style=\"text-align: right;\">\n",
       "      <th></th>\n",
       "      <th>id</th>\n",
       "      <th>week</th>\n",
       "      <th>checkout_price</th>\n",
       "      <th>base_price</th>\n",
       "      <th>emailer_for_promotion</th>\n",
       "      <th>homepage_featured</th>\n",
       "      <th>category</th>\n",
       "      <th>cuisine</th>\n",
       "      <th>city_code</th>\n",
       "      <th>region_code</th>\n",
       "      <th>center_type</th>\n",
       "      <th>op_area</th>\n",
       "      <th>num_orders</th>\n",
       "    </tr>\n",
       "  </thead>\n",
       "  <tbody>\n",
       "    <tr>\n",
       "      <td>4371</td>\n",
       "      <td>1091512</td>\n",
       "      <td>45</td>\n",
       "      <td>427.83</td>\n",
       "      <td>425.83</td>\n",
       "      <td>0</td>\n",
       "      <td>0</td>\n",
       "      <td>Biryani</td>\n",
       "      <td>Indian</td>\n",
       "      <td>649</td>\n",
       "      <td>34</td>\n",
       "      <td>TYPE_A</td>\n",
       "      <td>3.4</td>\n",
       "      <td>NaN</td>\n",
       "    </tr>\n",
       "    <tr>\n",
       "      <td>4394</td>\n",
       "      <td>1346923</td>\n",
       "      <td>45</td>\n",
       "      <td>446.23</td>\n",
       "      <td>447.23</td>\n",
       "      <td>0</td>\n",
       "      <td>0</td>\n",
       "      <td>Biryani</td>\n",
       "      <td>Indian</td>\n",
       "      <td>649</td>\n",
       "      <td>34</td>\n",
       "      <td>TYPE_A</td>\n",
       "      <td>3.4</td>\n",
       "      <td>NaN</td>\n",
       "    </tr>\n",
       "    <tr>\n",
       "      <td>5057</td>\n",
       "      <td>1260468</td>\n",
       "      <td>47</td>\n",
       "      <td>280.33</td>\n",
       "      <td>321.13</td>\n",
       "      <td>0</td>\n",
       "      <td>0</td>\n",
       "      <td>Other Snacks</td>\n",
       "      <td>Thai</td>\n",
       "      <td>541</td>\n",
       "      <td>77</td>\n",
       "      <td>TYPE_C</td>\n",
       "      <td>2.8</td>\n",
       "      <td>NaN</td>\n",
       "    </tr>\n",
       "    <tr>\n",
       "      <td>5061</td>\n",
       "      <td>1287575</td>\n",
       "      <td>51</td>\n",
       "      <td>319.13</td>\n",
       "      <td>319.13</td>\n",
       "      <td>0</td>\n",
       "      <td>0</td>\n",
       "      <td>Other Snacks</td>\n",
       "      <td>Thai</td>\n",
       "      <td>541</td>\n",
       "      <td>77</td>\n",
       "      <td>TYPE_C</td>\n",
       "      <td>2.8</td>\n",
       "      <td>NaN</td>\n",
       "    </tr>\n",
       "    <tr>\n",
       "      <td>5143</td>\n",
       "      <td>1052283</td>\n",
       "      <td>45</td>\n",
       "      <td>425.83</td>\n",
       "      <td>484.03</td>\n",
       "      <td>0</td>\n",
       "      <td>0</td>\n",
       "      <td>Biryani</td>\n",
       "      <td>Indian</td>\n",
       "      <td>541</td>\n",
       "      <td>77</td>\n",
       "      <td>TYPE_C</td>\n",
       "      <td>2.8</td>\n",
       "      <td>NaN</td>\n",
       "    </tr>\n",
       "  </tbody>\n",
       "</table>\n",
       "</div>"
      ],
      "text/plain": [
       "           id week  checkout_price  base_price  emailer_for_promotion  \\\n",
       "4371  1091512   45          427.83      425.83                      0   \n",
       "4394  1346923   45          446.23      447.23                      0   \n",
       "5057  1260468   47          280.33      321.13                      0   \n",
       "5061  1287575   51          319.13      319.13                      0   \n",
       "5143  1052283   45          425.83      484.03                      0   \n",
       "\n",
       "      homepage_featured      category cuisine city_code  region_code  \\\n",
       "4371                  0       Biryani  Indian       649           34   \n",
       "4394                  0       Biryani  Indian       649           34   \n",
       "5057                  0  Other Snacks    Thai       541           77   \n",
       "5061                  0  Other Snacks    Thai       541           77   \n",
       "5143                  0       Biryani  Indian       541           77   \n",
       "\n",
       "     center_type  op_area  num_orders  \n",
       "4371      TYPE_A      3.4         NaN  \n",
       "4394      TYPE_A      3.4         NaN  \n",
       "5057      TYPE_C      2.8         NaN  \n",
       "5061      TYPE_C      2.8         NaN  \n",
       "5143      TYPE_C      2.8         NaN  "
      ]
     },
     "execution_count": 338,
     "metadata": {},
     "output_type": "execute_result"
    }
   ],
   "source": [
    "null_data.head()"
   ]
  },
  {
   "cell_type": "code",
   "execution_count": 339,
   "metadata": {},
   "outputs": [],
   "source": [
    "final_test['num_orders'].fillna((final_test['num_orders'].mean()), inplace=True)"
   ]
  },
  {
   "cell_type": "code",
   "execution_count": 340,
   "metadata": {},
   "outputs": [],
   "source": [
    "final_test=final_test.drop(['week','category','city_code'],axis=1)"
   ]
  },
  {
   "cell_type": "code",
   "execution_count": 341,
   "metadata": {},
   "outputs": [
    {
     "data": {
      "text/plain": [
       "(32573, 10)"
      ]
     },
     "execution_count": 341,
     "metadata": {},
     "output_type": "execute_result"
    }
   ],
   "source": [
    "final_test.shape"
   ]
  },
  {
   "cell_type": "code",
   "execution_count": 342,
   "metadata": {},
   "outputs": [],
   "source": [
    "#Feature Engineering"
   ]
  },
  {
   "cell_type": "code",
   "execution_count": 343,
   "metadata": {},
   "outputs": [],
   "source": [
    "final_test['Discount']=final_test['base_price']-final_test['checkout_price']"
   ]
  },
  {
   "cell_type": "code",
   "execution_count": 344,
   "metadata": {},
   "outputs": [],
   "source": [
    "final_test.loc[(final_test['Discount'] <= 0),'Discount'] = 0"
   ]
  },
  {
   "cell_type": "code",
   "execution_count": 345,
   "metadata": {},
   "outputs": [],
   "source": [
    "final_test = pd.get_dummies(final_test,drop_first=True)"
   ]
  },
  {
   "cell_type": "code",
   "execution_count": 346,
   "metadata": {},
   "outputs": [
    {
     "data": {
      "text/html": [
       "<div>\n",
       "<style scoped>\n",
       "    .dataframe tbody tr th:only-of-type {\n",
       "        vertical-align: middle;\n",
       "    }\n",
       "\n",
       "    .dataframe tbody tr th {\n",
       "        vertical-align: top;\n",
       "    }\n",
       "\n",
       "    .dataframe thead th {\n",
       "        text-align: right;\n",
       "    }\n",
       "</style>\n",
       "<table border=\"1\" class=\"dataframe\">\n",
       "  <thead>\n",
       "    <tr style=\"text-align: right;\">\n",
       "      <th></th>\n",
       "      <th>id</th>\n",
       "      <th>checkout_price</th>\n",
       "      <th>base_price</th>\n",
       "      <th>emailer_for_promotion</th>\n",
       "      <th>homepage_featured</th>\n",
       "      <th>region_code</th>\n",
       "      <th>op_area</th>\n",
       "      <th>num_orders</th>\n",
       "      <th>Discount</th>\n",
       "      <th>cuisine_Indian</th>\n",
       "      <th>cuisine_Italian</th>\n",
       "      <th>cuisine_Thai</th>\n",
       "      <th>center_type_TYPE_B</th>\n",
       "      <th>center_type_TYPE_C</th>\n",
       "    </tr>\n",
       "  </thead>\n",
       "  <tbody>\n",
       "    <tr>\n",
       "      <td>count</td>\n",
       "      <td>3.257300e+04</td>\n",
       "      <td>32573.000000</td>\n",
       "      <td>32573.000000</td>\n",
       "      <td>32573.000000</td>\n",
       "      <td>32573.000000</td>\n",
       "      <td>32573.000000</td>\n",
       "      <td>32573.000000</td>\n",
       "      <td>32573.000000</td>\n",
       "      <td>32573.000000</td>\n",
       "      <td>32573.000000</td>\n",
       "      <td>32573.000000</td>\n",
       "      <td>32573.000000</td>\n",
       "      <td>32573.000000</td>\n",
       "      <td>32573.000000</td>\n",
       "    </tr>\n",
       "    <tr>\n",
       "      <td>mean</td>\n",
       "      <td>1.248476e+06</td>\n",
       "      <td>341.854440</td>\n",
       "      <td>356.493615</td>\n",
       "      <td>0.066435</td>\n",
       "      <td>0.081356</td>\n",
       "      <td>56.712154</td>\n",
       "      <td>4.087726</td>\n",
       "      <td>241.801129</td>\n",
       "      <td>15.100768</td>\n",
       "      <td>0.239677</td>\n",
       "      <td>0.271268</td>\n",
       "      <td>0.256102</td>\n",
       "      <td>0.210235</td>\n",
       "      <td>0.215178</td>\n",
       "    </tr>\n",
       "    <tr>\n",
       "      <td>std</td>\n",
       "      <td>1.441580e+05</td>\n",
       "      <td>153.893886</td>\n",
       "      <td>155.150101</td>\n",
       "      <td>0.249045</td>\n",
       "      <td>0.273385</td>\n",
       "      <td>17.641174</td>\n",
       "      <td>1.098835</td>\n",
       "      <td>175.763775</td>\n",
       "      <td>39.160919</td>\n",
       "      <td>0.426893</td>\n",
       "      <td>0.444621</td>\n",
       "      <td>0.436485</td>\n",
       "      <td>0.407482</td>\n",
       "      <td>0.410952</td>\n",
       "    </tr>\n",
       "    <tr>\n",
       "      <td>min</td>\n",
       "      <td>1.000085e+06</td>\n",
       "      <td>67.900000</td>\n",
       "      <td>89.240000</td>\n",
       "      <td>0.000000</td>\n",
       "      <td>0.000000</td>\n",
       "      <td>23.000000</td>\n",
       "      <td>0.900000</td>\n",
       "      <td>13.000000</td>\n",
       "      <td>0.000000</td>\n",
       "      <td>0.000000</td>\n",
       "      <td>0.000000</td>\n",
       "      <td>0.000000</td>\n",
       "      <td>0.000000</td>\n",
       "      <td>0.000000</td>\n",
       "    </tr>\n",
       "    <tr>\n",
       "      <td>25%</td>\n",
       "      <td>1.123969e+06</td>\n",
       "      <td>214.430000</td>\n",
       "      <td>243.500000</td>\n",
       "      <td>0.000000</td>\n",
       "      <td>0.000000</td>\n",
       "      <td>34.000000</td>\n",
       "      <td>3.600000</td>\n",
       "      <td>92.666667</td>\n",
       "      <td>0.000000</td>\n",
       "      <td>0.000000</td>\n",
       "      <td>0.000000</td>\n",
       "      <td>0.000000</td>\n",
       "      <td>0.000000</td>\n",
       "      <td>0.000000</td>\n",
       "    </tr>\n",
       "    <tr>\n",
       "      <td>50%</td>\n",
       "      <td>1.247296e+06</td>\n",
       "      <td>320.130000</td>\n",
       "      <td>321.130000</td>\n",
       "      <td>0.000000</td>\n",
       "      <td>0.000000</td>\n",
       "      <td>56.000000</td>\n",
       "      <td>4.000000</td>\n",
       "      <td>200.333333</td>\n",
       "      <td>0.000000</td>\n",
       "      <td>0.000000</td>\n",
       "      <td>0.000000</td>\n",
       "      <td>0.000000</td>\n",
       "      <td>0.000000</td>\n",
       "      <td>0.000000</td>\n",
       "    </tr>\n",
       "    <tr>\n",
       "      <td>75%</td>\n",
       "      <td>1.372971e+06</td>\n",
       "      <td>446.230000</td>\n",
       "      <td>455.930000</td>\n",
       "      <td>0.000000</td>\n",
       "      <td>0.000000</td>\n",
       "      <td>77.000000</td>\n",
       "      <td>4.500000</td>\n",
       "      <td>362.760870</td>\n",
       "      <td>2.000000</td>\n",
       "      <td>0.000000</td>\n",
       "      <td>1.000000</td>\n",
       "      <td>1.000000</td>\n",
       "      <td>0.000000</td>\n",
       "      <td>0.000000</td>\n",
       "    </tr>\n",
       "    <tr>\n",
       "      <td>max</td>\n",
       "      <td>1.499996e+06</td>\n",
       "      <td>1113.620000</td>\n",
       "      <td>1112.620000</td>\n",
       "      <td>1.000000</td>\n",
       "      <td>1.000000</td>\n",
       "      <td>93.000000</td>\n",
       "      <td>7.000000</td>\n",
       "      <td>1037.000000</td>\n",
       "      <td>820.590000</td>\n",
       "      <td>1.000000</td>\n",
       "      <td>1.000000</td>\n",
       "      <td>1.000000</td>\n",
       "      <td>1.000000</td>\n",
       "      <td>1.000000</td>\n",
       "    </tr>\n",
       "  </tbody>\n",
       "</table>\n",
       "</div>"
      ],
      "text/plain": [
       "                 id  checkout_price    base_price  emailer_for_promotion  \\\n",
       "count  3.257300e+04    32573.000000  32573.000000           32573.000000   \n",
       "mean   1.248476e+06      341.854440    356.493615               0.066435   \n",
       "std    1.441580e+05      153.893886    155.150101               0.249045   \n",
       "min    1.000085e+06       67.900000     89.240000               0.000000   \n",
       "25%    1.123969e+06      214.430000    243.500000               0.000000   \n",
       "50%    1.247296e+06      320.130000    321.130000               0.000000   \n",
       "75%    1.372971e+06      446.230000    455.930000               0.000000   \n",
       "max    1.499996e+06     1113.620000   1112.620000               1.000000   \n",
       "\n",
       "       homepage_featured   region_code       op_area    num_orders  \\\n",
       "count       32573.000000  32573.000000  32573.000000  32573.000000   \n",
       "mean            0.081356     56.712154      4.087726    241.801129   \n",
       "std             0.273385     17.641174      1.098835    175.763775   \n",
       "min             0.000000     23.000000      0.900000     13.000000   \n",
       "25%             0.000000     34.000000      3.600000     92.666667   \n",
       "50%             0.000000     56.000000      4.000000    200.333333   \n",
       "75%             0.000000     77.000000      4.500000    362.760870   \n",
       "max             1.000000     93.000000      7.000000   1037.000000   \n",
       "\n",
       "           Discount  cuisine_Indian  cuisine_Italian  cuisine_Thai  \\\n",
       "count  32573.000000    32573.000000     32573.000000  32573.000000   \n",
       "mean      15.100768        0.239677         0.271268      0.256102   \n",
       "std       39.160919        0.426893         0.444621      0.436485   \n",
       "min        0.000000        0.000000         0.000000      0.000000   \n",
       "25%        0.000000        0.000000         0.000000      0.000000   \n",
       "50%        0.000000        0.000000         0.000000      0.000000   \n",
       "75%        2.000000        0.000000         1.000000      1.000000   \n",
       "max      820.590000        1.000000         1.000000      1.000000   \n",
       "\n",
       "       center_type_TYPE_B  center_type_TYPE_C  \n",
       "count        32573.000000        32573.000000  \n",
       "mean             0.210235            0.215178  \n",
       "std              0.407482            0.410952  \n",
       "min              0.000000            0.000000  \n",
       "25%              0.000000            0.000000  \n",
       "50%              0.000000            0.000000  \n",
       "75%              0.000000            0.000000  \n",
       "max              1.000000            1.000000  "
      ]
     },
     "execution_count": 346,
     "metadata": {},
     "output_type": "execute_result"
    }
   ],
   "source": [
    "final_test.describe(include='all')"
   ]
  },
  {
   "cell_type": "code",
   "execution_count": null,
   "metadata": {},
   "outputs": [],
   "source": []
  },
  {
   "cell_type": "code",
   "execution_count": 347,
   "metadata": {},
   "outputs": [],
   "source": [
    "#########Seperating by regions based on visualizations##########\n",
    "#########Creating models for each region#########"
   ]
  },
  {
   "cell_type": "code",
   "execution_count": 348,
   "metadata": {},
   "outputs": [],
   "source": [
    "########## Region 56 #############"
   ]
  },
  {
   "cell_type": "code",
   "execution_count": 349,
   "metadata": {},
   "outputs": [
    {
     "data": {
      "text/plain": [
       "(189013, 14)"
      ]
     },
     "execution_count": 349,
     "metadata": {},
     "output_type": "execute_result"
    }
   ],
   "source": [
    "r56 = final_df[final_df.region_code == 56]\n",
    "r56.shape"
   ]
  },
  {
   "cell_type": "code",
   "execution_count": 350,
   "metadata": {},
   "outputs": [],
   "source": [
    "#Splitting data into training and testing sets"
   ]
  },
  {
   "cell_type": "code",
   "execution_count": 351,
   "metadata": {},
   "outputs": [],
   "source": [
    "X = r56.copy().drop([\"num_orders\",'region_code'],axis=1)\n",
    "y = r56[\"num_orders\"]\n",
    "\n",
    "X_train, X_test, y_train, y_test = train_test_split(X, y, test_size=0.2, random_state=0)"
   ]
  },
  {
   "cell_type": "code",
   "execution_count": 352,
   "metadata": {},
   "outputs": [],
   "source": [
    "r56_rf = RandomForestRegressor(n_estimators=100, random_state=0)  \n",
    "r56_rf.fit(X_train, y_train)  \n",
    "y_pred = r56_rf.predict(X_test)"
   ]
  },
  {
   "cell_type": "code",
   "execution_count": 353,
   "metadata": {},
   "outputs": [
    {
     "name": "stdout",
     "output_type": "stream",
     "text": [
      "Root Mean Squared Error: 160.05217261354267\n"
     ]
    }
   ],
   "source": [
    "print('Root Mean Squared Error:', np.sqrt(metrics.mean_squared_error(y_test, y_pred)))"
   ]
  },
  {
   "cell_type": "code",
   "execution_count": 354,
   "metadata": {},
   "outputs": [
    {
     "data": {
      "text/html": [
       "<div>\n",
       "<style scoped>\n",
       "    .dataframe tbody tr th:only-of-type {\n",
       "        vertical-align: middle;\n",
       "    }\n",
       "\n",
       "    .dataframe tbody tr th {\n",
       "        vertical-align: top;\n",
       "    }\n",
       "\n",
       "    .dataframe thead th {\n",
       "        text-align: right;\n",
       "    }\n",
       "</style>\n",
       "<table border=\"1\" class=\"dataframe\">\n",
       "  <thead>\n",
       "    <tr style=\"text-align: right;\">\n",
       "      <th></th>\n",
       "      <th>checkout_price</th>\n",
       "      <th>base_price</th>\n",
       "      <th>emailer_for_promotion</th>\n",
       "      <th>homepage_featured</th>\n",
       "      <th>num_orders</th>\n",
       "      <th>region_code</th>\n",
       "      <th>op_area</th>\n",
       "      <th>num_orders_mean</th>\n",
       "      <th>Discount</th>\n",
       "      <th>cuisine_Indian</th>\n",
       "      <th>cuisine_Italian</th>\n",
       "      <th>cuisine_Thai</th>\n",
       "      <th>center_type_TYPE_B</th>\n",
       "      <th>center_type_TYPE_C</th>\n",
       "    </tr>\n",
       "  </thead>\n",
       "  <tbody>\n",
       "    <tr>\n",
       "      <td>0</td>\n",
       "      <td>136.83</td>\n",
       "      <td>152.29</td>\n",
       "      <td>0</td>\n",
       "      <td>0</td>\n",
       "      <td>177</td>\n",
       "      <td>56</td>\n",
       "      <td>2.0</td>\n",
       "      <td>523.898551</td>\n",
       "      <td>15.46</td>\n",
       "      <td>0</td>\n",
       "      <td>0</td>\n",
       "      <td>1</td>\n",
       "      <td>0</td>\n",
       "      <td>1</td>\n",
       "    </tr>\n",
       "    <tr>\n",
       "      <td>1</td>\n",
       "      <td>122.28</td>\n",
       "      <td>145.53</td>\n",
       "      <td>1</td>\n",
       "      <td>1</td>\n",
       "      <td>500</td>\n",
       "      <td>56</td>\n",
       "      <td>2.0</td>\n",
       "      <td>523.898551</td>\n",
       "      <td>23.25</td>\n",
       "      <td>0</td>\n",
       "      <td>0</td>\n",
       "      <td>1</td>\n",
       "      <td>0</td>\n",
       "      <td>1</td>\n",
       "    </tr>\n",
       "    <tr>\n",
       "      <td>2</td>\n",
       "      <td>150.41</td>\n",
       "      <td>148.41</td>\n",
       "      <td>0</td>\n",
       "      <td>0</td>\n",
       "      <td>229</td>\n",
       "      <td>56</td>\n",
       "      <td>2.0</td>\n",
       "      <td>523.898551</td>\n",
       "      <td>0.00</td>\n",
       "      <td>0</td>\n",
       "      <td>0</td>\n",
       "      <td>1</td>\n",
       "      <td>0</td>\n",
       "      <td>1</td>\n",
       "    </tr>\n",
       "    <tr>\n",
       "      <td>3</td>\n",
       "      <td>136.83</td>\n",
       "      <td>135.83</td>\n",
       "      <td>0</td>\n",
       "      <td>0</td>\n",
       "      <td>270</td>\n",
       "      <td>56</td>\n",
       "      <td>2.0</td>\n",
       "      <td>523.898551</td>\n",
       "      <td>0.00</td>\n",
       "      <td>0</td>\n",
       "      <td>0</td>\n",
       "      <td>1</td>\n",
       "      <td>0</td>\n",
       "      <td>1</td>\n",
       "    </tr>\n",
       "    <tr>\n",
       "      <td>4</td>\n",
       "      <td>120.28</td>\n",
       "      <td>145.56</td>\n",
       "      <td>1</td>\n",
       "      <td>1</td>\n",
       "      <td>1161</td>\n",
       "      <td>56</td>\n",
       "      <td>2.0</td>\n",
       "      <td>523.898551</td>\n",
       "      <td>25.28</td>\n",
       "      <td>0</td>\n",
       "      <td>0</td>\n",
       "      <td>1</td>\n",
       "      <td>0</td>\n",
       "      <td>1</td>\n",
       "    </tr>\n",
       "  </tbody>\n",
       "</table>\n",
       "</div>"
      ],
      "text/plain": [
       "   checkout_price  base_price  emailer_for_promotion  homepage_featured  \\\n",
       "0          136.83      152.29                      0                  0   \n",
       "1          122.28      145.53                      1                  1   \n",
       "2          150.41      148.41                      0                  0   \n",
       "3          136.83      135.83                      0                  0   \n",
       "4          120.28      145.56                      1                  1   \n",
       "\n",
       "   num_orders  region_code  op_area  num_orders_mean  Discount  \\\n",
       "0         177           56      2.0       523.898551     15.46   \n",
       "1         500           56      2.0       523.898551     23.25   \n",
       "2         229           56      2.0       523.898551      0.00   \n",
       "3         270           56      2.0       523.898551      0.00   \n",
       "4        1161           56      2.0       523.898551     25.28   \n",
       "\n",
       "   cuisine_Indian  cuisine_Italian  cuisine_Thai  center_type_TYPE_B  \\\n",
       "0               0                0             1                   0   \n",
       "1               0                0             1                   0   \n",
       "2               0                0             1                   0   \n",
       "3               0                0             1                   0   \n",
       "4               0                0             1                   0   \n",
       "\n",
       "   center_type_TYPE_C  \n",
       "0                   1  \n",
       "1                   1  \n",
       "2                   1  \n",
       "3                   1  \n",
       "4                   1  "
      ]
     },
     "execution_count": 354,
     "metadata": {},
     "output_type": "execute_result"
    }
   ],
   "source": [
    "r56.head()"
   ]
  },
  {
   "cell_type": "code",
   "execution_count": 355,
   "metadata": {},
   "outputs": [],
   "source": [
    "#Predicting on Test"
   ]
  },
  {
   "cell_type": "code",
   "execution_count": 356,
   "metadata": {},
   "outputs": [
    {
     "data": {
      "text/html": [
       "<div>\n",
       "<style scoped>\n",
       "    .dataframe tbody tr th:only-of-type {\n",
       "        vertical-align: middle;\n",
       "    }\n",
       "\n",
       "    .dataframe tbody tr th {\n",
       "        vertical-align: top;\n",
       "    }\n",
       "\n",
       "    .dataframe thead th {\n",
       "        text-align: right;\n",
       "    }\n",
       "</style>\n",
       "<table border=\"1\" class=\"dataframe\">\n",
       "  <thead>\n",
       "    <tr style=\"text-align: right;\">\n",
       "      <th></th>\n",
       "      <th>checkout_price</th>\n",
       "      <th>base_price</th>\n",
       "      <th>emailer_for_promotion</th>\n",
       "      <th>homepage_featured</th>\n",
       "      <th>op_area</th>\n",
       "      <th>num_orders</th>\n",
       "      <th>Discount</th>\n",
       "      <th>cuisine_Indian</th>\n",
       "      <th>cuisine_Italian</th>\n",
       "      <th>cuisine_Thai</th>\n",
       "      <th>center_type_TYPE_B</th>\n",
       "      <th>center_type_TYPE_C</th>\n",
       "    </tr>\n",
       "  </thead>\n",
       "  <tbody>\n",
       "    <tr>\n",
       "      <td>0</td>\n",
       "      <td>158.11</td>\n",
       "      <td>159.11</td>\n",
       "      <td>0</td>\n",
       "      <td>0</td>\n",
       "      <td>2.0</td>\n",
       "      <td>373.106383</td>\n",
       "      <td>1.0</td>\n",
       "      <td>0</td>\n",
       "      <td>0</td>\n",
       "      <td>1</td>\n",
       "      <td>0</td>\n",
       "      <td>1</td>\n",
       "    </tr>\n",
       "    <tr>\n",
       "      <td>1</td>\n",
       "      <td>159.11</td>\n",
       "      <td>159.11</td>\n",
       "      <td>0</td>\n",
       "      <td>0</td>\n",
       "      <td>2.0</td>\n",
       "      <td>329.531915</td>\n",
       "      <td>0.0</td>\n",
       "      <td>0</td>\n",
       "      <td>0</td>\n",
       "      <td>1</td>\n",
       "      <td>0</td>\n",
       "      <td>1</td>\n",
       "    </tr>\n",
       "    <tr>\n",
       "      <td>2</td>\n",
       "      <td>157.14</td>\n",
       "      <td>158.14</td>\n",
       "      <td>0</td>\n",
       "      <td>0</td>\n",
       "      <td>2.0</td>\n",
       "      <td>339.875000</td>\n",
       "      <td>1.0</td>\n",
       "      <td>0</td>\n",
       "      <td>0</td>\n",
       "      <td>1</td>\n",
       "      <td>0</td>\n",
       "      <td>1</td>\n",
       "    </tr>\n",
       "    <tr>\n",
       "      <td>3</td>\n",
       "      <td>159.14</td>\n",
       "      <td>157.14</td>\n",
       "      <td>0</td>\n",
       "      <td>0</td>\n",
       "      <td>2.0</td>\n",
       "      <td>338.166667</td>\n",
       "      <td>0.0</td>\n",
       "      <td>0</td>\n",
       "      <td>0</td>\n",
       "      <td>1</td>\n",
       "      <td>0</td>\n",
       "      <td>1</td>\n",
       "    </tr>\n",
       "    <tr>\n",
       "      <td>4</td>\n",
       "      <td>160.11</td>\n",
       "      <td>159.11</td>\n",
       "      <td>0</td>\n",
       "      <td>0</td>\n",
       "      <td>2.0</td>\n",
       "      <td>326.979167</td>\n",
       "      <td>0.0</td>\n",
       "      <td>0</td>\n",
       "      <td>0</td>\n",
       "      <td>1</td>\n",
       "      <td>0</td>\n",
       "      <td>1</td>\n",
       "    </tr>\n",
       "  </tbody>\n",
       "</table>\n",
       "</div>"
      ],
      "text/plain": [
       "   checkout_price  base_price  emailer_for_promotion  homepage_featured  \\\n",
       "0          158.11      159.11                      0                  0   \n",
       "1          159.11      159.11                      0                  0   \n",
       "2          157.14      158.14                      0                  0   \n",
       "3          159.14      157.14                      0                  0   \n",
       "4          160.11      159.11                      0                  0   \n",
       "\n",
       "   op_area  num_orders  Discount  cuisine_Indian  cuisine_Italian  \\\n",
       "0      2.0  373.106383       1.0               0                0   \n",
       "1      2.0  329.531915       0.0               0                0   \n",
       "2      2.0  339.875000       1.0               0                0   \n",
       "3      2.0  338.166667       0.0               0                0   \n",
       "4      2.0  326.979167       0.0               0                0   \n",
       "\n",
       "   cuisine_Thai  center_type_TYPE_B  center_type_TYPE_C  \n",
       "0             1                   0                   1  \n",
       "1             1                   0                   1  \n",
       "2             1                   0                   1  \n",
       "3             1                   0                   1  \n",
       "4             1                   0                   1  "
      ]
     },
     "execution_count": 356,
     "metadata": {},
     "output_type": "execute_result"
    }
   ],
   "source": [
    "r56_test = final_test[final_test.region_code == 56]\n",
    "\n",
    "r56_test_score=r56_test.drop(['id','region_code'],axis=1)\n",
    "r56_test_score.head()\n"
   ]
  },
  {
   "cell_type": "code",
   "execution_count": 357,
   "metadata": {},
   "outputs": [],
   "source": [
    "num_orders_r56 = r56_rf.predict(r56_test_score)"
   ]
  },
  {
   "cell_type": "code",
   "execution_count": 358,
   "metadata": {},
   "outputs": [],
   "source": [
    "num_orders_r56_results = np.ceil(num_orders_r56)"
   ]
  },
  {
   "cell_type": "code",
   "execution_count": 359,
   "metadata": {},
   "outputs": [
    {
     "data": {
      "text/plain": [
       "array([182., 124.,  99., ..., 124., 136.,  84.])"
      ]
     },
     "execution_count": 359,
     "metadata": {},
     "output_type": "execute_result"
    }
   ],
   "source": [
    "num_orders_r56_results"
   ]
  },
  {
   "cell_type": "code",
   "execution_count": 360,
   "metadata": {},
   "outputs": [
    {
     "data": {
      "text/html": [
       "<div>\n",
       "<style scoped>\n",
       "    .dataframe tbody tr th:only-of-type {\n",
       "        vertical-align: middle;\n",
       "    }\n",
       "\n",
       "    .dataframe tbody tr th {\n",
       "        vertical-align: top;\n",
       "    }\n",
       "\n",
       "    .dataframe thead th {\n",
       "        text-align: right;\n",
       "    }\n",
       "</style>\n",
       "<table border=\"1\" class=\"dataframe\">\n",
       "  <thead>\n",
       "    <tr style=\"text-align: right;\">\n",
       "      <th></th>\n",
       "      <th>id</th>\n",
       "      <th>checkout_price</th>\n",
       "      <th>base_price</th>\n",
       "      <th>emailer_for_promotion</th>\n",
       "      <th>homepage_featured</th>\n",
       "      <th>region_code</th>\n",
       "      <th>op_area</th>\n",
       "      <th>num_orders</th>\n",
       "      <th>Discount</th>\n",
       "      <th>cuisine_Indian</th>\n",
       "      <th>cuisine_Italian</th>\n",
       "      <th>cuisine_Thai</th>\n",
       "      <th>center_type_TYPE_B</th>\n",
       "      <th>center_type_TYPE_C</th>\n",
       "    </tr>\n",
       "  </thead>\n",
       "  <tbody>\n",
       "    <tr>\n",
       "      <td>0</td>\n",
       "      <td>1028232</td>\n",
       "      <td>158.11</td>\n",
       "      <td>159.11</td>\n",
       "      <td>0</td>\n",
       "      <td>0</td>\n",
       "      <td>56</td>\n",
       "      <td>2.0</td>\n",
       "      <td>373.106383</td>\n",
       "      <td>1.0</td>\n",
       "      <td>0</td>\n",
       "      <td>0</td>\n",
       "      <td>1</td>\n",
       "      <td>0</td>\n",
       "      <td>1</td>\n",
       "    </tr>\n",
       "    <tr>\n",
       "      <td>1</td>\n",
       "      <td>1262649</td>\n",
       "      <td>159.11</td>\n",
       "      <td>159.11</td>\n",
       "      <td>0</td>\n",
       "      <td>0</td>\n",
       "      <td>56</td>\n",
       "      <td>2.0</td>\n",
       "      <td>329.531915</td>\n",
       "      <td>0.0</td>\n",
       "      <td>0</td>\n",
       "      <td>0</td>\n",
       "      <td>1</td>\n",
       "      <td>0</td>\n",
       "      <td>1</td>\n",
       "    </tr>\n",
       "    <tr>\n",
       "      <td>2</td>\n",
       "      <td>1453211</td>\n",
       "      <td>157.14</td>\n",
       "      <td>158.14</td>\n",
       "      <td>0</td>\n",
       "      <td>0</td>\n",
       "      <td>56</td>\n",
       "      <td>2.0</td>\n",
       "      <td>339.875000</td>\n",
       "      <td>1.0</td>\n",
       "      <td>0</td>\n",
       "      <td>0</td>\n",
       "      <td>1</td>\n",
       "      <td>0</td>\n",
       "      <td>1</td>\n",
       "    </tr>\n",
       "    <tr>\n",
       "      <td>3</td>\n",
       "      <td>1262599</td>\n",
       "      <td>159.14</td>\n",
       "      <td>157.14</td>\n",
       "      <td>0</td>\n",
       "      <td>0</td>\n",
       "      <td>56</td>\n",
       "      <td>2.0</td>\n",
       "      <td>338.166667</td>\n",
       "      <td>0.0</td>\n",
       "      <td>0</td>\n",
       "      <td>0</td>\n",
       "      <td>1</td>\n",
       "      <td>0</td>\n",
       "      <td>1</td>\n",
       "    </tr>\n",
       "    <tr>\n",
       "      <td>4</td>\n",
       "      <td>1495848</td>\n",
       "      <td>160.11</td>\n",
       "      <td>159.11</td>\n",
       "      <td>0</td>\n",
       "      <td>0</td>\n",
       "      <td>56</td>\n",
       "      <td>2.0</td>\n",
       "      <td>326.979167</td>\n",
       "      <td>0.0</td>\n",
       "      <td>0</td>\n",
       "      <td>0</td>\n",
       "      <td>1</td>\n",
       "      <td>0</td>\n",
       "      <td>1</td>\n",
       "    </tr>\n",
       "  </tbody>\n",
       "</table>\n",
       "</div>"
      ],
      "text/plain": [
       "        id  checkout_price  base_price  emailer_for_promotion  \\\n",
       "0  1028232          158.11      159.11                      0   \n",
       "1  1262649          159.11      159.11                      0   \n",
       "2  1453211          157.14      158.14                      0   \n",
       "3  1262599          159.14      157.14                      0   \n",
       "4  1495848          160.11      159.11                      0   \n",
       "\n",
       "   homepage_featured  region_code  op_area  num_orders  Discount  \\\n",
       "0                  0           56      2.0  373.106383       1.0   \n",
       "1                  0           56      2.0  329.531915       0.0   \n",
       "2                  0           56      2.0  339.875000       1.0   \n",
       "3                  0           56      2.0  338.166667       0.0   \n",
       "4                  0           56      2.0  326.979167       0.0   \n",
       "\n",
       "   cuisine_Indian  cuisine_Italian  cuisine_Thai  center_type_TYPE_B  \\\n",
       "0               0                0             1                   0   \n",
       "1               0                0             1                   0   \n",
       "2               0                0             1                   0   \n",
       "3               0                0             1                   0   \n",
       "4               0                0             1                   0   \n",
       "\n",
       "   center_type_TYPE_C  \n",
       "0                   1  \n",
       "1                   1  \n",
       "2                   1  \n",
       "3                   1  \n",
       "4                   1  "
      ]
     },
     "execution_count": 360,
     "metadata": {},
     "output_type": "execute_result"
    }
   ],
   "source": [
    "final_test.head()"
   ]
  },
  {
   "cell_type": "code",
   "execution_count": 361,
   "metadata": {},
   "outputs": [],
   "source": [
    "sol_df_r56 = pd.DataFrame({'id':r56_test.id, 'num_orders': num_orders_r56_results})"
   ]
  },
  {
   "cell_type": "code",
   "execution_count": 362,
   "metadata": {},
   "outputs": [
    {
     "data": {
      "text/plain": [
       "(13683, 2)"
      ]
     },
     "execution_count": 362,
     "metadata": {},
     "output_type": "execute_result"
    }
   ],
   "source": [
    "sol_df_r56.shape"
   ]
  },
  {
   "cell_type": "code",
   "execution_count": 363,
   "metadata": {},
   "outputs": [],
   "source": [
    "############Region 85###################"
   ]
  },
  {
   "cell_type": "code",
   "execution_count": 364,
   "metadata": {},
   "outputs": [],
   "source": [
    "r85 = final_df[final_df.region_code == 85]"
   ]
  },
  {
   "cell_type": "code",
   "execution_count": 365,
   "metadata": {},
   "outputs": [],
   "source": [
    "X = r85.copy().drop([\"num_orders\",\"region_code\"],axis=1)\n",
    "y = r85[\"num_orders\"]\n",
    "\n",
    "X_train, X_test, y_train, y_test = train_test_split(X, y, test_size=0.2, random_state=0)"
   ]
  },
  {
   "cell_type": "code",
   "execution_count": 366,
   "metadata": {},
   "outputs": [],
   "source": [
    "r85_rf = RandomForestRegressor(n_estimators=100, random_state=0)  \n",
    "r85_rf.fit(X_train, y_train)  \n",
    "y_pred = r85_rf.predict(X_test)"
   ]
  },
  {
   "cell_type": "code",
   "execution_count": 367,
   "metadata": {},
   "outputs": [
    {
     "name": "stdout",
     "output_type": "stream",
     "text": [
      "Root Mean Squared Error: 155.78387746334838\n"
     ]
    }
   ],
   "source": [
    "print('Root Mean Squared Error:', np.sqrt(metrics.mean_squared_error(y_test, y_pred)))"
   ]
  },
  {
   "cell_type": "code",
   "execution_count": 368,
   "metadata": {},
   "outputs": [],
   "source": [
    "#Predicting on Test"
   ]
  },
  {
   "cell_type": "code",
   "execution_count": 369,
   "metadata": {},
   "outputs": [
    {
     "data": {
      "text/html": [
       "<div>\n",
       "<style scoped>\n",
       "    .dataframe tbody tr th:only-of-type {\n",
       "        vertical-align: middle;\n",
       "    }\n",
       "\n",
       "    .dataframe tbody tr th {\n",
       "        vertical-align: top;\n",
       "    }\n",
       "\n",
       "    .dataframe thead th {\n",
       "        text-align: right;\n",
       "    }\n",
       "</style>\n",
       "<table border=\"1\" class=\"dataframe\">\n",
       "  <thead>\n",
       "    <tr style=\"text-align: right;\">\n",
       "      <th></th>\n",
       "      <th>id</th>\n",
       "      <th>checkout_price</th>\n",
       "      <th>base_price</th>\n",
       "      <th>emailer_for_promotion</th>\n",
       "      <th>homepage_featured</th>\n",
       "      <th>region_code</th>\n",
       "      <th>op_area</th>\n",
       "      <th>num_orders</th>\n",
       "      <th>Discount</th>\n",
       "      <th>cuisine_Indian</th>\n",
       "      <th>cuisine_Italian</th>\n",
       "      <th>cuisine_Thai</th>\n",
       "      <th>center_type_TYPE_B</th>\n",
       "      <th>center_type_TYPE_C</th>\n",
       "    </tr>\n",
       "  </thead>\n",
       "  <tbody>\n",
       "    <tr>\n",
       "      <td>362</td>\n",
       "      <td>1460444</td>\n",
       "      <td>158.11</td>\n",
       "      <td>160.11</td>\n",
       "      <td>0</td>\n",
       "      <td>1</td>\n",
       "      <td>85</td>\n",
       "      <td>3.6</td>\n",
       "      <td>369.288889</td>\n",
       "      <td>2.0</td>\n",
       "      <td>0</td>\n",
       "      <td>0</td>\n",
       "      <td>1</td>\n",
       "      <td>1</td>\n",
       "      <td>0</td>\n",
       "    </tr>\n",
       "    <tr>\n",
       "      <td>363</td>\n",
       "      <td>1476535</td>\n",
       "      <td>157.14</td>\n",
       "      <td>157.14</td>\n",
       "      <td>0</td>\n",
       "      <td>0</td>\n",
       "      <td>85</td>\n",
       "      <td>3.6</td>\n",
       "      <td>362.844444</td>\n",
       "      <td>0.0</td>\n",
       "      <td>0</td>\n",
       "      <td>0</td>\n",
       "      <td>1</td>\n",
       "      <td>1</td>\n",
       "      <td>0</td>\n",
       "    </tr>\n",
       "    <tr>\n",
       "      <td>364</td>\n",
       "      <td>1297121</td>\n",
       "      <td>160.11</td>\n",
       "      <td>160.11</td>\n",
       "      <td>0</td>\n",
       "      <td>0</td>\n",
       "      <td>85</td>\n",
       "      <td>3.6</td>\n",
       "      <td>356.955556</td>\n",
       "      <td>0.0</td>\n",
       "      <td>0</td>\n",
       "      <td>0</td>\n",
       "      <td>1</td>\n",
       "      <td>1</td>\n",
       "      <td>0</td>\n",
       "    </tr>\n",
       "    <tr>\n",
       "      <td>365</td>\n",
       "      <td>1141103</td>\n",
       "      <td>158.14</td>\n",
       "      <td>158.14</td>\n",
       "      <td>0</td>\n",
       "      <td>0</td>\n",
       "      <td>85</td>\n",
       "      <td>3.6</td>\n",
       "      <td>339.767442</td>\n",
       "      <td>0.0</td>\n",
       "      <td>0</td>\n",
       "      <td>0</td>\n",
       "      <td>1</td>\n",
       "      <td>1</td>\n",
       "      <td>0</td>\n",
       "    </tr>\n",
       "    <tr>\n",
       "      <td>366</td>\n",
       "      <td>1274933</td>\n",
       "      <td>159.11</td>\n",
       "      <td>158.11</td>\n",
       "      <td>0</td>\n",
       "      <td>0</td>\n",
       "      <td>85</td>\n",
       "      <td>3.6</td>\n",
       "      <td>371.266667</td>\n",
       "      <td>0.0</td>\n",
       "      <td>0</td>\n",
       "      <td>0</td>\n",
       "      <td>1</td>\n",
       "      <td>1</td>\n",
       "      <td>0</td>\n",
       "    </tr>\n",
       "  </tbody>\n",
       "</table>\n",
       "</div>"
      ],
      "text/plain": [
       "          id  checkout_price  base_price  emailer_for_promotion  \\\n",
       "362  1460444          158.11      160.11                      0   \n",
       "363  1476535          157.14      157.14                      0   \n",
       "364  1297121          160.11      160.11                      0   \n",
       "365  1141103          158.14      158.14                      0   \n",
       "366  1274933          159.11      158.11                      0   \n",
       "\n",
       "     homepage_featured  region_code  op_area  num_orders  Discount  \\\n",
       "362                  1           85      3.6  369.288889       2.0   \n",
       "363                  0           85      3.6  362.844444       0.0   \n",
       "364                  0           85      3.6  356.955556       0.0   \n",
       "365                  0           85      3.6  339.767442       0.0   \n",
       "366                  0           85      3.6  371.266667       0.0   \n",
       "\n",
       "     cuisine_Indian  cuisine_Italian  cuisine_Thai  center_type_TYPE_B  \\\n",
       "362               0                0             1                   1   \n",
       "363               0                0             1                   1   \n",
       "364               0                0             1                   1   \n",
       "365               0                0             1                   1   \n",
       "366               0                0             1                   1   \n",
       "\n",
       "     center_type_TYPE_C  \n",
       "362                   0  \n",
       "363                   0  \n",
       "364                   0  \n",
       "365                   0  \n",
       "366                   0  "
      ]
     },
     "execution_count": 369,
     "metadata": {},
     "output_type": "execute_result"
    }
   ],
   "source": [
    "r85_test = final_test[final_test.region_code == 85]\n",
    "\n",
    "r85_test_score=r85_test.drop(['id','region_code'],axis=1)\n",
    "r85_test.head()\n"
   ]
  },
  {
   "cell_type": "code",
   "execution_count": 370,
   "metadata": {},
   "outputs": [],
   "source": [
    "num_orders_r85 = r85_rf.predict(r85_test_score)"
   ]
  },
  {
   "cell_type": "code",
   "execution_count": 371,
   "metadata": {},
   "outputs": [],
   "source": [
    "num_orders_r85_results = np.ceil(num_orders_r85)"
   ]
  },
  {
   "cell_type": "code",
   "execution_count": 372,
   "metadata": {},
   "outputs": [
    {
     "data": {
      "text/plain": [
       "array([1105.,  942.,  690., ...,   35.,   19.,   33.])"
      ]
     },
     "execution_count": 372,
     "metadata": {},
     "output_type": "execute_result"
    }
   ],
   "source": [
    "num_orders_r85_results"
   ]
  },
  {
   "cell_type": "code",
   "execution_count": 373,
   "metadata": {},
   "outputs": [],
   "source": [
    "sol_df_r85 = pd.DataFrame({'id':r85_test.id, 'num_orders': num_orders_r85_results})"
   ]
  },
  {
   "cell_type": "code",
   "execution_count": 374,
   "metadata": {},
   "outputs": [
    {
     "data": {
      "text/plain": [
       "(2238, 2)"
      ]
     },
     "execution_count": 374,
     "metadata": {},
     "output_type": "execute_result"
    }
   ],
   "source": [
    "sol_df_r85.shape"
   ]
  },
  {
   "cell_type": "code",
   "execution_count": null,
   "metadata": {},
   "outputs": [],
   "source": []
  },
  {
   "cell_type": "code",
   "execution_count": 375,
   "metadata": {},
   "outputs": [],
   "source": [
    "##################Region 34 and 77#################################"
   ]
  },
  {
   "cell_type": "code",
   "execution_count": 376,
   "metadata": {},
   "outputs": [],
   "source": [
    "r3477 = final_df[(final_df.region_code == 34)  | (final_df.region_code == 77)]"
   ]
  },
  {
   "cell_type": "code",
   "execution_count": 377,
   "metadata": {},
   "outputs": [],
   "source": [
    "X = r3477.copy().drop(\"num_orders\",axis=1)\n",
    "y = r3477[\"num_orders\"]\n",
    "\n",
    "X_train, X_test, y_train, y_test = train_test_split(X, y, test_size=0.2, random_state=0)"
   ]
  },
  {
   "cell_type": "code",
   "execution_count": 378,
   "metadata": {},
   "outputs": [],
   "source": [
    "r3477_rf = RandomForestRegressor(n_estimators=100, random_state=0)  \n",
    "r3477_rf.fit(X_train, y_train)  \n",
    "y_pred = r3477_rf.predict(X_test)"
   ]
  },
  {
   "cell_type": "code",
   "execution_count": 379,
   "metadata": {},
   "outputs": [
    {
     "name": "stdout",
     "output_type": "stream",
     "text": [
      "Root Mean Squared Error: 113.49847890864984\n"
     ]
    }
   ],
   "source": [
    "print('Root Mean Squared Error:', np.sqrt(metrics.mean_squared_error(y_test, y_pred)))"
   ]
  },
  {
   "cell_type": "code",
   "execution_count": 380,
   "metadata": {},
   "outputs": [],
   "source": [
    "#Predicting on Test"
   ]
  },
  {
   "cell_type": "code",
   "execution_count": 381,
   "metadata": {},
   "outputs": [
    {
     "data": {
      "text/plain": [
       "(14953, 14)"
      ]
     },
     "execution_count": 381,
     "metadata": {},
     "output_type": "execute_result"
    }
   ],
   "source": [
    "r3477_test = final_test[(final_test.region_code == 34)  | (final_test.region_code == 77)]\n",
    "\n",
    "r3477_test_score=r3477_test.drop(['id'],axis=1)\n",
    "r3477_test.shape\n"
   ]
  },
  {
   "cell_type": "code",
   "execution_count": 382,
   "metadata": {},
   "outputs": [],
   "source": [
    "num_orders_r3477 = r3477_rf.predict(r3477_test_score)"
   ]
  },
  {
   "cell_type": "code",
   "execution_count": 383,
   "metadata": {},
   "outputs": [],
   "source": [
    "num_orders_r3477_results = np.ceil(num_orders_r3477)"
   ]
  },
  {
   "cell_type": "code",
   "execution_count": 384,
   "metadata": {},
   "outputs": [
    {
     "data": {
      "text/plain": [
       "array([607., 454., 586., ...,  52.,  37.,  86.])"
      ]
     },
     "execution_count": 384,
     "metadata": {},
     "output_type": "execute_result"
    }
   ],
   "source": [
    "num_orders_r3477_results"
   ]
  },
  {
   "cell_type": "code",
   "execution_count": 385,
   "metadata": {},
   "outputs": [],
   "source": [
    "sol_df_r3477 = pd.DataFrame({'id':r3477_test.id, 'num_orders': num_orders_r3477_results})"
   ]
  },
  {
   "cell_type": "code",
   "execution_count": 386,
   "metadata": {},
   "outputs": [
    {
     "data": {
      "text/plain": [
       "(14953, 2)"
      ]
     },
     "execution_count": 386,
     "metadata": {},
     "output_type": "execute_result"
    }
   ],
   "source": [
    "sol_df_r3477.shape"
   ]
  },
  {
   "cell_type": "code",
   "execution_count": null,
   "metadata": {},
   "outputs": [],
   "source": []
  },
  {
   "cell_type": "code",
   "execution_count": 387,
   "metadata": {},
   "outputs": [],
   "source": [
    "##################Region 35, 71, 93 and 23#################################"
   ]
  },
  {
   "cell_type": "code",
   "execution_count": 388,
   "metadata": {},
   "outputs": [],
   "source": [
    "r_other = final_df[(final_df.region_code == 35)  | (final_df.region_code == 71) | (final_df.region_code == 93) | (final_df.region_code == 23)]"
   ]
  },
  {
   "cell_type": "code",
   "execution_count": 389,
   "metadata": {},
   "outputs": [],
   "source": [
    "X = r_other.copy().drop(\"num_orders\",axis=1)\n",
    "y = r_other[\"num_orders\"]\n",
    "\n",
    "X_train, X_test, y_train, y_test = train_test_split(X, y, test_size=0.2, random_state=0)"
   ]
  },
  {
   "cell_type": "code",
   "execution_count": 390,
   "metadata": {},
   "outputs": [],
   "source": [
    "r_other_rf = RandomForestRegressor(n_estimators=100, random_state=0)  \n",
    "r_other_rf.fit(X_train, y_train)  \n",
    "y_pred = r_other_rf.predict(X_test)"
   ]
  },
  {
   "cell_type": "code",
   "execution_count": 391,
   "metadata": {},
   "outputs": [
    {
     "name": "stdout",
     "output_type": "stream",
     "text": [
      "Root Mean Squared Error: 134.9406188310536\n"
     ]
    }
   ],
   "source": [
    "print('Root Mean Squared Error:', np.sqrt(metrics.mean_squared_error(y_test, y_pred)))"
   ]
  },
  {
   "cell_type": "code",
   "execution_count": 392,
   "metadata": {},
   "outputs": [],
   "source": [
    "#Predicting on Test"
   ]
  },
  {
   "cell_type": "code",
   "execution_count": 393,
   "metadata": {},
   "outputs": [
    {
     "data": {
      "text/plain": [
       "(1699, 14)"
      ]
     },
     "execution_count": 393,
     "metadata": {},
     "output_type": "execute_result"
    }
   ],
   "source": [
    "r_other_test = final_test[(final_test.region_code == 35)  | (final_test.region_code == 71) | (final_test.region_code == 93) | (final_test.region_code == 23)]\n",
    "\n",
    "r_other_test_score=r_other_test.drop(['id'],axis=1)\n",
    "r_other_test.shape\n"
   ]
  },
  {
   "cell_type": "code",
   "execution_count": 394,
   "metadata": {},
   "outputs": [],
   "source": [
    "num_orders_r_other = r_other_rf.predict(r_other_test_score)"
   ]
  },
  {
   "cell_type": "code",
   "execution_count": 395,
   "metadata": {},
   "outputs": [],
   "source": [
    "num_orders_r_other_results = np.ceil(num_orders_r_other)"
   ]
  },
  {
   "cell_type": "code",
   "execution_count": 396,
   "metadata": {},
   "outputs": [
    {
     "data": {
      "text/plain": [
       "array([190., 116., 126., ...,  20.,  15.,  15.])"
      ]
     },
     "execution_count": 396,
     "metadata": {},
     "output_type": "execute_result"
    }
   ],
   "source": [
    "num_orders_r_other_results"
   ]
  },
  {
   "cell_type": "code",
   "execution_count": 397,
   "metadata": {},
   "outputs": [],
   "source": [
    "sol_df_rother = pd.DataFrame({'id':r_other_test.id, 'num_orders': num_orders_r_other_results})"
   ]
  },
  {
   "cell_type": "code",
   "execution_count": 398,
   "metadata": {},
   "outputs": [
    {
     "data": {
      "text/plain": [
       "(1699, 2)"
      ]
     },
     "execution_count": 398,
     "metadata": {},
     "output_type": "execute_result"
    }
   ],
   "source": [
    "sol_df_rother.shape"
   ]
  },
  {
   "cell_type": "code",
   "execution_count": 399,
   "metadata": {},
   "outputs": [
    {
     "data": {
      "text/html": [
       "<div>\n",
       "<style scoped>\n",
       "    .dataframe tbody tr th:only-of-type {\n",
       "        vertical-align: middle;\n",
       "    }\n",
       "\n",
       "    .dataframe tbody tr th {\n",
       "        vertical-align: top;\n",
       "    }\n",
       "\n",
       "    .dataframe thead th {\n",
       "        text-align: right;\n",
       "    }\n",
       "</style>\n",
       "<table border=\"1\" class=\"dataframe\">\n",
       "  <thead>\n",
       "    <tr style=\"text-align: right;\">\n",
       "      <th></th>\n",
       "      <th>id</th>\n",
       "      <th>checkout_price</th>\n",
       "      <th>base_price</th>\n",
       "      <th>emailer_for_promotion</th>\n",
       "      <th>homepage_featured</th>\n",
       "      <th>region_code</th>\n",
       "      <th>op_area</th>\n",
       "      <th>num_orders</th>\n",
       "      <th>Discount</th>\n",
       "      <th>cuisine_Indian</th>\n",
       "      <th>cuisine_Italian</th>\n",
       "      <th>cuisine_Thai</th>\n",
       "      <th>center_type_TYPE_B</th>\n",
       "      <th>center_type_TYPE_C</th>\n",
       "    </tr>\n",
       "  </thead>\n",
       "  <tbody>\n",
       "    <tr>\n",
       "      <td>7256</td>\n",
       "      <td>1312130</td>\n",
       "      <td>121.31</td>\n",
       "      <td>121.31</td>\n",
       "      <td>0</td>\n",
       "      <td>0</td>\n",
       "      <td>35</td>\n",
       "      <td>2.8</td>\n",
       "      <td>170.208333</td>\n",
       "      <td>0.0</td>\n",
       "      <td>0</td>\n",
       "      <td>0</td>\n",
       "      <td>1</td>\n",
       "      <td>0</td>\n",
       "      <td>0</td>\n",
       "    </tr>\n",
       "    <tr>\n",
       "      <td>7257</td>\n",
       "      <td>1284072</td>\n",
       "      <td>120.28</td>\n",
       "      <td>120.28</td>\n",
       "      <td>0</td>\n",
       "      <td>0</td>\n",
       "      <td>35</td>\n",
       "      <td>2.8</td>\n",
       "      <td>167.583333</td>\n",
       "      <td>0.0</td>\n",
       "      <td>0</td>\n",
       "      <td>0</td>\n",
       "      <td>1</td>\n",
       "      <td>0</td>\n",
       "      <td>0</td>\n",
       "    </tr>\n",
       "    <tr>\n",
       "      <td>7258</td>\n",
       "      <td>1390606</td>\n",
       "      <td>121.28</td>\n",
       "      <td>120.28</td>\n",
       "      <td>0</td>\n",
       "      <td>0</td>\n",
       "      <td>35</td>\n",
       "      <td>2.8</td>\n",
       "      <td>130.541667</td>\n",
       "      <td>0.0</td>\n",
       "      <td>0</td>\n",
       "      <td>0</td>\n",
       "      <td>1</td>\n",
       "      <td>0</td>\n",
       "      <td>0</td>\n",
       "    </tr>\n",
       "    <tr>\n",
       "      <td>7259</td>\n",
       "      <td>1177870</td>\n",
       "      <td>119.34</td>\n",
       "      <td>119.34</td>\n",
       "      <td>0</td>\n",
       "      <td>0</td>\n",
       "      <td>35</td>\n",
       "      <td>2.8</td>\n",
       "      <td>144.500000</td>\n",
       "      <td>0.0</td>\n",
       "      <td>0</td>\n",
       "      <td>0</td>\n",
       "      <td>1</td>\n",
       "      <td>0</td>\n",
       "      <td>0</td>\n",
       "    </tr>\n",
       "    <tr>\n",
       "      <td>7260</td>\n",
       "      <td>1217412</td>\n",
       "      <td>118.34</td>\n",
       "      <td>119.34</td>\n",
       "      <td>0</td>\n",
       "      <td>0</td>\n",
       "      <td>35</td>\n",
       "      <td>2.8</td>\n",
       "      <td>133.739130</td>\n",
       "      <td>1.0</td>\n",
       "      <td>0</td>\n",
       "      <td>0</td>\n",
       "      <td>1</td>\n",
       "      <td>0</td>\n",
       "      <td>0</td>\n",
       "    </tr>\n",
       "    <tr>\n",
       "      <td>...</td>\n",
       "      <td>...</td>\n",
       "      <td>...</td>\n",
       "      <td>...</td>\n",
       "      <td>...</td>\n",
       "      <td>...</td>\n",
       "      <td>...</td>\n",
       "      <td>...</td>\n",
       "      <td>...</td>\n",
       "      <td>...</td>\n",
       "      <td>...</td>\n",
       "      <td>...</td>\n",
       "      <td>...</td>\n",
       "      <td>...</td>\n",
       "      <td>...</td>\n",
       "    </tr>\n",
       "    <tr>\n",
       "      <td>30795</td>\n",
       "      <td>1452741</td>\n",
       "      <td>446.23</td>\n",
       "      <td>446.23</td>\n",
       "      <td>0</td>\n",
       "      <td>0</td>\n",
       "      <td>23</td>\n",
       "      <td>3.4</td>\n",
       "      <td>21.250000</td>\n",
       "      <td>0.0</td>\n",
       "      <td>1</td>\n",
       "      <td>0</td>\n",
       "      <td>0</td>\n",
       "      <td>0</td>\n",
       "      <td>0</td>\n",
       "    </tr>\n",
       "    <tr>\n",
       "      <td>30796</td>\n",
       "      <td>1468212</td>\n",
       "      <td>446.23</td>\n",
       "      <td>447.23</td>\n",
       "      <td>0</td>\n",
       "      <td>0</td>\n",
       "      <td>23</td>\n",
       "      <td>3.4</td>\n",
       "      <td>15.000000</td>\n",
       "      <td>1.0</td>\n",
       "      <td>1</td>\n",
       "      <td>0</td>\n",
       "      <td>0</td>\n",
       "      <td>0</td>\n",
       "      <td>0</td>\n",
       "    </tr>\n",
       "    <tr>\n",
       "      <td>30797</td>\n",
       "      <td>1230784</td>\n",
       "      <td>445.23</td>\n",
       "      <td>447.23</td>\n",
       "      <td>0</td>\n",
       "      <td>0</td>\n",
       "      <td>23</td>\n",
       "      <td>3.4</td>\n",
       "      <td>20.500000</td>\n",
       "      <td>2.0</td>\n",
       "      <td>1</td>\n",
       "      <td>0</td>\n",
       "      <td>0</td>\n",
       "      <td>0</td>\n",
       "      <td>0</td>\n",
       "    </tr>\n",
       "    <tr>\n",
       "      <td>30798</td>\n",
       "      <td>1190650</td>\n",
       "      <td>445.23</td>\n",
       "      <td>445.23</td>\n",
       "      <td>0</td>\n",
       "      <td>0</td>\n",
       "      <td>23</td>\n",
       "      <td>3.4</td>\n",
       "      <td>14.666667</td>\n",
       "      <td>0.0</td>\n",
       "      <td>1</td>\n",
       "      <td>0</td>\n",
       "      <td>0</td>\n",
       "      <td>0</td>\n",
       "      <td>0</td>\n",
       "    </tr>\n",
       "    <tr>\n",
       "      <td>30799</td>\n",
       "      <td>1047101</td>\n",
       "      <td>446.23</td>\n",
       "      <td>446.23</td>\n",
       "      <td>0</td>\n",
       "      <td>0</td>\n",
       "      <td>23</td>\n",
       "      <td>3.4</td>\n",
       "      <td>14.000000</td>\n",
       "      <td>0.0</td>\n",
       "      <td>1</td>\n",
       "      <td>0</td>\n",
       "      <td>0</td>\n",
       "      <td>0</td>\n",
       "      <td>0</td>\n",
       "    </tr>\n",
       "  </tbody>\n",
       "</table>\n",
       "<p>1699 rows × 14 columns</p>\n",
       "</div>"
      ],
      "text/plain": [
       "            id  checkout_price  base_price  emailer_for_promotion  \\\n",
       "7256   1312130          121.31      121.31                      0   \n",
       "7257   1284072          120.28      120.28                      0   \n",
       "7258   1390606          121.28      120.28                      0   \n",
       "7259   1177870          119.34      119.34                      0   \n",
       "7260   1217412          118.34      119.34                      0   \n",
       "...        ...             ...         ...                    ...   \n",
       "30795  1452741          446.23      446.23                      0   \n",
       "30796  1468212          446.23      447.23                      0   \n",
       "30797  1230784          445.23      447.23                      0   \n",
       "30798  1190650          445.23      445.23                      0   \n",
       "30799  1047101          446.23      446.23                      0   \n",
       "\n",
       "       homepage_featured  region_code  op_area  num_orders  Discount  \\\n",
       "7256                   0           35      2.8  170.208333       0.0   \n",
       "7257                   0           35      2.8  167.583333       0.0   \n",
       "7258                   0           35      2.8  130.541667       0.0   \n",
       "7259                   0           35      2.8  144.500000       0.0   \n",
       "7260                   0           35      2.8  133.739130       1.0   \n",
       "...                  ...          ...      ...         ...       ...   \n",
       "30795                  0           23      3.4   21.250000       0.0   \n",
       "30796                  0           23      3.4   15.000000       1.0   \n",
       "30797                  0           23      3.4   20.500000       2.0   \n",
       "30798                  0           23      3.4   14.666667       0.0   \n",
       "30799                  0           23      3.4   14.000000       0.0   \n",
       "\n",
       "       cuisine_Indian  cuisine_Italian  cuisine_Thai  center_type_TYPE_B  \\\n",
       "7256                0                0             1                   0   \n",
       "7257                0                0             1                   0   \n",
       "7258                0                0             1                   0   \n",
       "7259                0                0             1                   0   \n",
       "7260                0                0             1                   0   \n",
       "...               ...              ...           ...                 ...   \n",
       "30795               1                0             0                   0   \n",
       "30796               1                0             0                   0   \n",
       "30797               1                0             0                   0   \n",
       "30798               1                0             0                   0   \n",
       "30799               1                0             0                   0   \n",
       "\n",
       "       center_type_TYPE_C  \n",
       "7256                    0  \n",
       "7257                    0  \n",
       "7258                    0  \n",
       "7259                    0  \n",
       "7260                    0  \n",
       "...                   ...  \n",
       "30795                   0  \n",
       "30796                   0  \n",
       "30797                   0  \n",
       "30798                   0  \n",
       "30799                   0  \n",
       "\n",
       "[1699 rows x 14 columns]"
      ]
     },
     "execution_count": 399,
     "metadata": {},
     "output_type": "execute_result"
    }
   ],
   "source": [
    "final_test[(final_test.region_code == 35)  | (final_test.region_code == 71) | (final_test.region_code == 93) | (final_test.region_code == 23)]"
   ]
  },
  {
   "cell_type": "code",
   "execution_count": 400,
   "metadata": {},
   "outputs": [
    {
     "data": {
      "text/html": [
       "<div>\n",
       "<style scoped>\n",
       "    .dataframe tbody tr th:only-of-type {\n",
       "        vertical-align: middle;\n",
       "    }\n",
       "\n",
       "    .dataframe tbody tr th {\n",
       "        vertical-align: top;\n",
       "    }\n",
       "\n",
       "    .dataframe thead th {\n",
       "        text-align: right;\n",
       "    }\n",
       "</style>\n",
       "<table border=\"1\" class=\"dataframe\">\n",
       "  <thead>\n",
       "    <tr style=\"text-align: right;\">\n",
       "      <th></th>\n",
       "      <th>id</th>\n",
       "      <th>checkout_price</th>\n",
       "      <th>base_price</th>\n",
       "      <th>emailer_for_promotion</th>\n",
       "      <th>homepage_featured</th>\n",
       "      <th>op_area</th>\n",
       "      <th>num_orders</th>\n",
       "      <th>Discount</th>\n",
       "      <th>cuisine_Indian</th>\n",
       "      <th>cuisine_Italian</th>\n",
       "      <th>cuisine_Thai</th>\n",
       "      <th>center_type_TYPE_B</th>\n",
       "      <th>center_type_TYPE_C</th>\n",
       "    </tr>\n",
       "    <tr>\n",
       "      <th>region_code</th>\n",
       "      <th></th>\n",
       "      <th></th>\n",
       "      <th></th>\n",
       "      <th></th>\n",
       "      <th></th>\n",
       "      <th></th>\n",
       "      <th></th>\n",
       "      <th></th>\n",
       "      <th></th>\n",
       "      <th></th>\n",
       "      <th></th>\n",
       "      <th></th>\n",
       "      <th></th>\n",
       "    </tr>\n",
       "  </thead>\n",
       "  <tbody>\n",
       "    <tr>\n",
       "      <td>23</td>\n",
       "      <td>449</td>\n",
       "      <td>449</td>\n",
       "      <td>449</td>\n",
       "      <td>449</td>\n",
       "      <td>449</td>\n",
       "      <td>449</td>\n",
       "      <td>449</td>\n",
       "      <td>449</td>\n",
       "      <td>449</td>\n",
       "      <td>449</td>\n",
       "      <td>449</td>\n",
       "      <td>449</td>\n",
       "      <td>449</td>\n",
       "    </tr>\n",
       "    <tr>\n",
       "      <td>34</td>\n",
       "      <td>8265</td>\n",
       "      <td>8265</td>\n",
       "      <td>8265</td>\n",
       "      <td>8265</td>\n",
       "      <td>8265</td>\n",
       "      <td>8265</td>\n",
       "      <td>8265</td>\n",
       "      <td>8265</td>\n",
       "      <td>8265</td>\n",
       "      <td>8265</td>\n",
       "      <td>8265</td>\n",
       "      <td>8265</td>\n",
       "      <td>8265</td>\n",
       "    </tr>\n",
       "    <tr>\n",
       "      <td>35</td>\n",
       "      <td>370</td>\n",
       "      <td>370</td>\n",
       "      <td>370</td>\n",
       "      <td>370</td>\n",
       "      <td>370</td>\n",
       "      <td>370</td>\n",
       "      <td>370</td>\n",
       "      <td>370</td>\n",
       "      <td>370</td>\n",
       "      <td>370</td>\n",
       "      <td>370</td>\n",
       "      <td>370</td>\n",
       "      <td>370</td>\n",
       "    </tr>\n",
       "    <tr>\n",
       "      <td>56</td>\n",
       "      <td>13683</td>\n",
       "      <td>13683</td>\n",
       "      <td>13683</td>\n",
       "      <td>13683</td>\n",
       "      <td>13683</td>\n",
       "      <td>13683</td>\n",
       "      <td>13683</td>\n",
       "      <td>13683</td>\n",
       "      <td>13683</td>\n",
       "      <td>13683</td>\n",
       "      <td>13683</td>\n",
       "      <td>13683</td>\n",
       "      <td>13683</td>\n",
       "    </tr>\n",
       "    <tr>\n",
       "      <td>71</td>\n",
       "      <td>468</td>\n",
       "      <td>468</td>\n",
       "      <td>468</td>\n",
       "      <td>468</td>\n",
       "      <td>468</td>\n",
       "      <td>468</td>\n",
       "      <td>468</td>\n",
       "      <td>468</td>\n",
       "      <td>468</td>\n",
       "      <td>468</td>\n",
       "      <td>468</td>\n",
       "      <td>468</td>\n",
       "      <td>468</td>\n",
       "    </tr>\n",
       "    <tr>\n",
       "      <td>77</td>\n",
       "      <td>6688</td>\n",
       "      <td>6688</td>\n",
       "      <td>6688</td>\n",
       "      <td>6688</td>\n",
       "      <td>6688</td>\n",
       "      <td>6688</td>\n",
       "      <td>6688</td>\n",
       "      <td>6688</td>\n",
       "      <td>6688</td>\n",
       "      <td>6688</td>\n",
       "      <td>6688</td>\n",
       "      <td>6688</td>\n",
       "      <td>6688</td>\n",
       "    </tr>\n",
       "    <tr>\n",
       "      <td>85</td>\n",
       "      <td>2238</td>\n",
       "      <td>2238</td>\n",
       "      <td>2238</td>\n",
       "      <td>2238</td>\n",
       "      <td>2238</td>\n",
       "      <td>2238</td>\n",
       "      <td>2238</td>\n",
       "      <td>2238</td>\n",
       "      <td>2238</td>\n",
       "      <td>2238</td>\n",
       "      <td>2238</td>\n",
       "      <td>2238</td>\n",
       "      <td>2238</td>\n",
       "    </tr>\n",
       "    <tr>\n",
       "      <td>93</td>\n",
       "      <td>412</td>\n",
       "      <td>412</td>\n",
       "      <td>412</td>\n",
       "      <td>412</td>\n",
       "      <td>412</td>\n",
       "      <td>412</td>\n",
       "      <td>412</td>\n",
       "      <td>412</td>\n",
       "      <td>412</td>\n",
       "      <td>412</td>\n",
       "      <td>412</td>\n",
       "      <td>412</td>\n",
       "      <td>412</td>\n",
       "    </tr>\n",
       "  </tbody>\n",
       "</table>\n",
       "</div>"
      ],
      "text/plain": [
       "                id  checkout_price  base_price  emailer_for_promotion  \\\n",
       "region_code                                                             \n",
       "23             449             449         449                    449   \n",
       "34            8265            8265        8265                   8265   \n",
       "35             370             370         370                    370   \n",
       "56           13683           13683       13683                  13683   \n",
       "71             468             468         468                    468   \n",
       "77            6688            6688        6688                   6688   \n",
       "85            2238            2238        2238                   2238   \n",
       "93             412             412         412                    412   \n",
       "\n",
       "             homepage_featured  op_area  num_orders  Discount  cuisine_Indian  \\\n",
       "region_code                                                                     \n",
       "23                         449      449         449       449             449   \n",
       "34                        8265     8265        8265      8265            8265   \n",
       "35                         370      370         370       370             370   \n",
       "56                       13683    13683       13683     13683           13683   \n",
       "71                         468      468         468       468             468   \n",
       "77                        6688     6688        6688      6688            6688   \n",
       "85                        2238     2238        2238      2238            2238   \n",
       "93                         412      412         412       412             412   \n",
       "\n",
       "             cuisine_Italian  cuisine_Thai  center_type_TYPE_B  \\\n",
       "region_code                                                      \n",
       "23                       449           449                 449   \n",
       "34                      8265          8265                8265   \n",
       "35                       370           370                 370   \n",
       "56                     13683         13683               13683   \n",
       "71                       468           468                 468   \n",
       "77                      6688          6688                6688   \n",
       "85                      2238          2238                2238   \n",
       "93                       412           412                 412   \n",
       "\n",
       "             center_type_TYPE_C  \n",
       "region_code                      \n",
       "23                          449  \n",
       "34                         8265  \n",
       "35                          370  \n",
       "56                        13683  \n",
       "71                          468  \n",
       "77                         6688  \n",
       "85                         2238  \n",
       "93                          412  "
      ]
     },
     "execution_count": 400,
     "metadata": {},
     "output_type": "execute_result"
    }
   ],
   "source": [
    "final_test.groupby('region_code').count()"
   ]
  },
  {
   "cell_type": "code",
   "execution_count": 401,
   "metadata": {},
   "outputs": [
    {
     "data": {
      "text/plain": [
       "(14953, 2)"
      ]
     },
     "execution_count": 401,
     "metadata": {},
     "output_type": "execute_result"
    }
   ],
   "source": [
    "sol_df_r3477.shape"
   ]
  },
  {
   "cell_type": "code",
   "execution_count": null,
   "metadata": {},
   "outputs": [],
   "source": []
  },
  {
   "cell_type": "code",
   "execution_count": 402,
   "metadata": {},
   "outputs": [],
   "source": [
    "final_sol = pd.concat([sol_df_r56,sol_df_r85,sol_df_r3477,sol_df_rother])"
   ]
  },
  {
   "cell_type": "code",
   "execution_count": 403,
   "metadata": {},
   "outputs": [],
   "source": [
    "final_sol.to_csv('results_final.csv',index=False)"
   ]
  },
  {
   "cell_type": "code",
   "execution_count": 404,
   "metadata": {},
   "outputs": [
    {
     "data": {
      "text/plain": [
       "(32573, 2)"
      ]
     },
     "execution_count": 404,
     "metadata": {},
     "output_type": "execute_result"
    }
   ],
   "source": [
    "final_sol.shape"
   ]
  }
 ],
 "metadata": {
  "kernelspec": {
   "display_name": "Python 3",
   "language": "python",
   "name": "python3"
  },
  "language_info": {
   "codemirror_mode": {
    "name": "ipython",
    "version": 3
   },
   "file_extension": ".py",
   "mimetype": "text/x-python",
   "name": "python",
   "nbconvert_exporter": "python",
   "pygments_lexer": "ipython3",
   "version": "3.7.4"
  }
 },
 "nbformat": 4,
 "nbformat_minor": 2
}
